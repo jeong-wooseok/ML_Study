{
 "cells": [
  {
   "cell_type": "markdown",
   "id": "a598a79d-715b-4de6-874c-7d6c025cd105",
   "metadata": {
    "jp-MarkdownHeadingCollapsed": true,
    "pycharm": {
     "name": "#%% md\n"
    },
    "tags": []
   },
   "source": [
    "# Kfold를 통한 DecisionTreeClf 모델 검증"
   ]
  },
  {
   "cell_type": "code",
   "execution_count": 2,
   "id": "0c9da038-0957-4788-8099-776e6291ba65",
   "metadata": {
    "pycharm": {
     "name": "#%%\n"
    }
   },
   "outputs": [
    {
     "name": "stdout",
     "output_type": "stream",
     "text": [
      "\n",
      "#1 교차 검증 정확도 : 1.0, 학습 데이터 크기 : 120, 검증 데이터 크기 : 30\n",
      "#1 검증 세트 인덱스 : [ 0  1  2  3  4  5  6  7  8  9 10 11 12 13 14 15 16 17 18 19 20 21 22 23\n",
      " 24 25 26 27 28 29]\n",
      "\n",
      "#2 교차 검증 정확도 : 0.9667, 학습 데이터 크기 : 120, 검증 데이터 크기 : 30\n",
      "#2 검증 세트 인덱스 : [30 31 32 33 34 35 36 37 38 39 40 41 42 43 44 45 46 47 48 49 50 51 52 53\n",
      " 54 55 56 57 58 59]\n",
      "\n",
      "#3 교차 검증 정확도 : 0.8667, 학습 데이터 크기 : 120, 검증 데이터 크기 : 30\n",
      "#3 검증 세트 인덱스 : [60 61 62 63 64 65 66 67 68 69 70 71 72 73 74 75 76 77 78 79 80 81 82 83\n",
      " 84 85 86 87 88 89]\n",
      "\n",
      "#4 교차 검증 정확도 : 0.9333, 학습 데이터 크기 : 120, 검증 데이터 크기 : 30\n",
      "#4 검증 세트 인덱스 : [ 90  91  92  93  94  95  96  97  98  99 100 101 102 103 104 105 106 107\n",
      " 108 109 110 111 112 113 114 115 116 117 118 119]\n",
      "\n",
      "#5 교차 검증 정확도 : 0.7333, 학습 데이터 크기 : 120, 검증 데이터 크기 : 30\n",
      "#5 검증 세트 인덱스 : [120 121 122 123 124 125 126 127 128 129 130 131 132 133 134 135 136 137\n",
      " 138 139 140 141 142 143 144 145 146 147 148 149]\n",
      "\n",
      "## 평균 검증 정확도 :  0.9\n"
     ]
    }
   ],
   "source": [
    "from sklearn.tree import DecisionTreeClassifier\n",
    "from sklearn.metrics import accuracy_score\n",
    "from sklearn.model_selection import KFold\n",
    "from sklearn.datasets import load_iris\n",
    "import numpy as np\n",
    "\n",
    "iris = load_iris()\n",
    "features = iris.data\n",
    "label = iris.target\n",
    "dt_clf = DecisionTreeClassifier(random_state=156)\n",
    "\n",
    "# 5개의 폴드 세트로  분라하는 Kfold 객체와 폴드 세트 별 정확도를 담을 리스트 객체 생성\n",
    "kfold = KFold(n_splits=5)\n",
    "cv_accuracy = []\n",
    "\n",
    "n_iter = 0\n",
    "\n",
    "# KFold 객체의 split()을 호출하면 폴드별 학습용, 검증용 테스트의 로우 인덱스를 array로 반환\n",
    "for train_index, test_index in kfold.split(features):\n",
    "    #kfold.split()으로 반환된 인덱스를 이용해 학습용, 검증용 테스트 데이터 추출\n",
    "    X_train, X_test = features[train_index], features[test_index]\n",
    "    y_train, y_test = label[train_index], label[test_index] \n",
    "    \n",
    "    # 학습 및 예측\n",
    "    dt_clf.fit(X_train, y_train)\n",
    "    y_pred = dt_clf.predict(X_test)\n",
    "    n_iter += 1\n",
    "    \n",
    "    # 반복 시마다 정확도 측정 \n",
    "    accuracy = np.round(accuracy_score(y_test, y_pred),4)\n",
    "    train_size = X_train.shape[0]\n",
    "    test_size = X_test.shape[0]\n",
    "    \n",
    "    print(f'\\n#{n_iter} 교차 검증 정확도 : {accuracy}, 학습 데이터 크기 : {train_size}, 검증 데이터 크기 : {test_size}')\n",
    "    print(f'#{n_iter} 검증 세트 인덱스 : {test_index}')\n",
    "    cv_accuracy.append(accuracy)\n",
    "    \n",
    "# 개별 iteration 별 정확도를 합하여 평균 정확도 계산\n",
    "print('\\n## 평균 검증 정확도 : ', np.mean(cv_accuracy))"
   ]
  },
  {
   "cell_type": "markdown",
   "id": "c4cc6f75-ebcb-4f6f-b18f-fcffbaf747c3",
   "metadata": {
    "jp-MarkdownHeadingCollapsed": true,
    "pycharm": {
     "name": "#%% md\n"
    },
    "tags": []
   },
   "source": [
    "# Stratified Kfold<br>\n",
    "불균형한 데이터 집합을 위한 K폴드 방식<br>\n",
    "예를 들면 대출사기 판별하는 경우, 매우 작은 확률이기에 비율을 제대로 반영하기 힘들지만, 매우 중요한 특성이므로 무시할 수 없음 <br>\n",
    "원본 데이터의 레이블 분포를 먼저 고려한 뒤 이 분포와 동일하게 학습과 검증데이터 세트를 분배하여 해결"
   ]
  },
  {
   "cell_type": "code",
   "execution_count": 3,
   "id": "6b90f9b5-49d2-49eb-9756-a99db779c5a3",
   "metadata": {
    "pycharm": {
     "name": "#%%\n"
    }
   },
   "outputs": [
    {
     "name": "stdout",
     "output_type": "stream",
     "text": [
      "\n",
      "## kfold 교차 검증 : 1\n",
      "학습 레이블 데이터 분포 : 1    50\n",
      "2    50\n",
      "0    20\n",
      "Name: label, dtype: int64\n",
      "검증 레이블 데이터 분포 : 0    30\n",
      "Name: label, dtype: int64\n",
      "\n",
      "## kfold 교차 검증 : 2\n",
      "학습 레이블 데이터 분포 : 2    50\n",
      "1    40\n",
      "0    30\n",
      "Name: label, dtype: int64\n",
      "검증 레이블 데이터 분포 : 0    20\n",
      "1    10\n",
      "Name: label, dtype: int64\n",
      "\n",
      "## kfold 교차 검증 : 3\n",
      "학습 레이블 데이터 분포 : 0    50\n",
      "2    50\n",
      "1    20\n",
      "Name: label, dtype: int64\n",
      "검증 레이블 데이터 분포 : 1    30\n",
      "Name: label, dtype: int64\n",
      "\n",
      "## kfold 교차 검증 : 4\n",
      "학습 레이블 데이터 분포 : 0    50\n",
      "1    40\n",
      "2    30\n",
      "Name: label, dtype: int64\n",
      "검증 레이블 데이터 분포 : 2    20\n",
      "1    10\n",
      "Name: label, dtype: int64\n",
      "\n",
      "## kfold 교차 검증 : 5\n",
      "학습 레이블 데이터 분포 : 0    50\n",
      "1    50\n",
      "2    20\n",
      "Name: label, dtype: int64\n",
      "검증 레이블 데이터 분포 : 2    30\n",
      "Name: label, dtype: int64\n"
     ]
    }
   ],
   "source": [
    "import pandas as pd\n",
    "from sklearn.datasets import load_iris\n",
    "from sklearn.model_selection import StratifiedKFold\n",
    "\n",
    "    \n",
    "iris = load_iris()\n",
    "iris_df = pd.DataFrame(iris.data, columns = iris.feature_names)\n",
    "iris_df['label'] = iris.target\n",
    "\n",
    "k_fold = KFold(n_splits=3)\n",
    "n_iter = 0\n",
    "\n",
    "for train_index, test_index in kfold.split(iris_df):\n",
    "    n_iter += 1\n",
    "    #kfold.split()으로 반환된 인덱스를 이용해 학습용, 검증용 테스트 데이터 추출\n",
    "    label_train = iris_df['label'].iloc[train_index]\n",
    "    label_test = iris_df['label'].iloc[test_index]\n",
    "    print(f'\\n## kfold 교차 검증 : {n_iter}')\n",
    "    print(f'학습 레이블 데이터 분포 : {label_train.value_counts()}')\n",
    "    print(f'검증 레이블 데이터 분포 : {label_test.value_counts()}')"
   ]
  },
  {
   "cell_type": "code",
   "execution_count": 4,
   "id": "9b3c1222-a0ae-4080-97db-a9fb8cdda96c",
   "metadata": {
    "pycharm": {
     "name": "#%%\n"
    }
   },
   "outputs": [
    {
     "name": "stdout",
     "output_type": "stream",
     "text": [
      "\n",
      "## Stratifiedkfold 교차 검증 : 1\n",
      "학습 레이블 데이터 분포 : 2    34\n",
      "0    33\n",
      "1    33\n",
      "Name: label, dtype: int64\n",
      "검증 레이블 데이터 분포 : 0    17\n",
      "1    17\n",
      "2    16\n",
      "Name: label, dtype: int64\n",
      "\n",
      "## Stratifiedkfold 교차 검증 : 2\n",
      "학습 레이블 데이터 분포 : 1    34\n",
      "0    33\n",
      "2    33\n",
      "Name: label, dtype: int64\n",
      "검증 레이블 데이터 분포 : 0    17\n",
      "2    17\n",
      "1    16\n",
      "Name: label, dtype: int64\n",
      "\n",
      "## Stratifiedkfold 교차 검증 : 3\n",
      "학습 레이블 데이터 분포 : 0    34\n",
      "1    33\n",
      "2    33\n",
      "Name: label, dtype: int64\n",
      "검증 레이블 데이터 분포 : 1    17\n",
      "2    17\n",
      "0    16\n",
      "Name: label, dtype: int64\n"
     ]
    }
   ],
   "source": [
    "skf = StratifiedKFold(n_splits=3)\n",
    "n_iter = 0\n",
    "\n",
    "for train_index, test_index in skf.split(iris_df, iris_df['label']):\n",
    "    # skf는 라벨의 분포에 따라 동일하게 쪼개어주므로, 라벨 변수(y값)도 넣어야 함\n",
    "    n_iter += 1\n",
    "    label_train = iris_df['label'].iloc[train_index]\n",
    "    label_test = iris_df['label'].iloc[test_index]\n",
    "    print(f'\\n## Stratifiedkfold 교차 검증 : {n_iter}')\n",
    "    print(f'학습 레이블 데이터 분포 : {label_train.value_counts()}')\n",
    "    print(f'검증 레이블 데이터 분포 : {label_test.value_counts()}')"
   ]
  },
  {
   "cell_type": "markdown",
   "id": "ab340f18-bac4-4db8-9dcf-8c6acf3caf66",
   "metadata": {
    "pycharm": {
     "name": "#%% md\n"
    }
   },
   "source": [
    "Stratifiedkfold로 모델학습을 시켜보자~"
   ]
  },
  {
   "cell_type": "code",
   "execution_count": 4,
   "id": "d918c605-ad2d-46bd-adef-1a7930f88f97",
   "metadata": {
    "pycharm": {
     "name": "#%%\n"
    }
   },
   "outputs": [
    {
     "name": "stdout",
     "output_type": "stream",
     "text": [
      "\n",
      "#1 교차 검증 정확도 : 0.98, 학습 데이터 크기 : 100, 검증 데이터 크기 : 50\n",
      "#1 검증 세트 인덱스 : [  0   1   2   3   4   5   6   7   8   9  10  11  12  13  14  15  16  50\n",
      "  51  52  53  54  55  56  57  58  59  60  61  62  63  64  65  66 100 101\n",
      " 102 103 104 105 106 107 108 109 110 111 112 113 114 115]\n",
      "\n",
      "#2 교차 검증 정확도 : 0.94, 학습 데이터 크기 : 100, 검증 데이터 크기 : 50\n",
      "#2 검증 세트 인덱스 : [ 17  18  19  20  21  22  23  24  25  26  27  28  29  30  31  32  33  67\n",
      "  68  69  70  71  72  73  74  75  76  77  78  79  80  81  82 116 117 118\n",
      " 119 120 121 122 123 124 125 126 127 128 129 130 131 132]\n",
      "\n",
      "#3 교차 검증 정확도 : 0.98, 학습 데이터 크기 : 100, 검증 데이터 크기 : 50\n",
      "#3 검증 세트 인덱스 : [ 34  35  36  37  38  39  40  41  42  43  44  45  46  47  48  49  83  84\n",
      "  85  86  87  88  89  90  91  92  93  94  95  96  97  98  99 133 134 135\n",
      " 136 137 138 139 140 141 142 143 144 145 146 147 148 149]\n",
      "\n",
      "## 평균 검증 정확도 :  0.9666666666666667\n"
     ]
    }
   ],
   "source": [
    "n_iter = 0 \n",
    "cv_accuracy =[]\n",
    "\n",
    "for train_index, test_index in skf.split(iris_df, iris_df['label']):\n",
    "    X_train, X_test = features[train_index], features[test_index]\n",
    "    y_train, y_test = label[train_index], label[test_index] \n",
    "    \n",
    "    # 학습 및 예측\n",
    "    dt_clf.fit(X_train, y_train)\n",
    "    y_pred = dt_clf.predict(X_test)\n",
    "    n_iter += 1\n",
    "    \n",
    "    # 반복 시마다 정확도 측정 \n",
    "    accuracy = np.round(accuracy_score(y_test, y_pred),4)\n",
    "    train_size = X_train.shape[0]\n",
    "    test_size = X_test.shape[0]\n",
    "    \n",
    "    print(f'\\n#{n_iter} 교차 검증 정확도 : {accuracy}, 학습 데이터 크기 : {train_size}, 검증 데이터 크기 : {test_size}')\n",
    "    print(f'#{n_iter} 검증 세트 인덱스 : {test_index}')\n",
    "    cv_accuracy.append(accuracy)\n",
    "    \n",
    "# 개별 iteration 별 정확도를 합하여 평균 정확도 계산\n",
    "print('\\n## 평균 검증 정확도 : ', np.mean(cv_accuracy))"
   ]
  },
  {
   "cell_type": "markdown",
   "id": "5620ede3-d138-4379-be46-8ac4d9f46782",
   "metadata": {
    "jp-MarkdownHeadingCollapsed": true,
    "pycharm": {
     "name": "#%% md\n"
    },
    "tags": []
   },
   "source": [
    "# 교차 검증을 보다 간편하게 - cross_val_score\n",
    "<br> 폴드세트를 구성하고 for loop를 통해 학습시키거, 인덱스 추출하는 과정을 단순화 시킨 api\n",
    "<br> cross_val_score(모델, X, y, scoring = 'accuracy', cv = n) 으로 작성하며,\n",
    "<br> 회귀는 kfold 방식, 분류는 stratifiedkfold 방식으로 구분"
   ]
  },
  {
   "cell_type": "code",
   "execution_count": 5,
   "id": "7754baf5-4ff3-4f1f-a672-23c56be9dfeb",
   "metadata": {
    "pycharm": {
     "name": "#%%\n"
    }
   },
   "outputs": [
    {
     "name": "stdout",
     "output_type": "stream",
     "text": [
      "교차 검증 별 정확도 : [0.98 0.94 0.96]\n",
      "평균 검중 정확도 : 0.96\n"
     ]
    }
   ],
   "source": [
    "from sklearn.model_selection import cross_val_score, cross_validate\n",
    "from sklearn.tree import DecisionTreeClassifier\n",
    "from sklearn.datasets import load_iris\n",
    "\n",
    "iris = load_iris()\n",
    "dt_clf = DecisionTreeClassifier()\n",
    "\n",
    "data = iris.data\n",
    "label = iris.target\n",
    "\n",
    "score = cross_val_score(dt_clf, data, label, scoring='accuracy', cv=3)\n",
    "print(f'교차 검증 별 정확도 : {np.round(score,4)}')\n",
    "print(f'평균 검중 정확도 : {np.round(np.mean(score),4)}')\n"
   ]
  },
  {
   "cell_type": "markdown",
   "id": "b872a80f-1160-4bb7-adf7-434cb64efe66",
   "metadata": {
    "pycharm": {
     "name": "#%% md\n"
    },
    "tags": []
   },
   "source": [
    "# 교차검증과 최적 하이퍼 파라미터 튜닝을 한번에 - GridSearchCV\n",
    "<br> 알고리즘에 사용되는 하이퍼 파라미터를 순차적으로 입력하면서 편리하게 최적의 파라미터를 도출\n",
    "<br> (Grid는 격자라는 뜻으로 촘촘하게 파라미터를 입력하면서 테스트)\n",
    "<br><br>\n",
    "------\n",
    "GridSearchCV의 클래스 생성자로 들어가는 주요 파라미터<br>\n",
    "<br> <b> estimator </b> : classifier, regressor, pipeline 이 사용\n",
    "<br> <b> pram_grid </b> : key : [리스트 값]을 가지는 딕셔너리가 주어짐, estimator의 튜닝을 위해 파라미터명과 사용될 여러 파라미터값을 지정\n",
    "<br> <b> scoring </b> : 예측 성능을 측정할 평가 방법을 지정, 보통은 사이킷런의 성능 평가 지표를 지정하는 문자열 (예: 정확도의 경우 'accuracy')로 지정 하나 별도의 성능 평가 지표도 지정할 수 있음 \n",
    "<br> <b> cv </b> : 교차 검증을 위해 분할 되는 학습/테스트 세트의 개수를 지정\n",
    "<br> <b> refit </b> : 디폴트가 True이며 생성시 가장 최적의 하이퍼 파라미터를 찾은 뒤 입력된 estimator 객체를 해당 하이퍼파라미터로 재학습 시킴\n"
   ]
  },
  {
   "cell_type": "code",
   "execution_count": 6,
   "id": "9f266cdf-f909-4ec8-8d11-d8fc545797e9",
   "metadata": {
    "pycharm": {
     "name": "#%%\n"
    }
   },
   "outputs": [
    {
     "data": {
      "text/html": [
       "<div>\n",
       "<style scoped>\n",
       "    .dataframe tbody tr th:only-of-type {\n",
       "        vertical-align: middle;\n",
       "    }\n",
       "\n",
       "    .dataframe tbody tr th {\n",
       "        vertical-align: top;\n",
       "    }\n",
       "\n",
       "    .dataframe thead th {\n",
       "        text-align: right;\n",
       "    }\n",
       "</style>\n",
       "<table border=\"1\" class=\"dataframe\">\n",
       "  <thead>\n",
       "    <tr style=\"text-align: right;\">\n",
       "      <th></th>\n",
       "      <th>params</th>\n",
       "      <th>mean_test_score</th>\n",
       "      <th>rank_test_score</th>\n",
       "      <th>split0_test_score</th>\n",
       "      <th>split1_test_score</th>\n",
       "      <th>split2_test_score</th>\n",
       "    </tr>\n",
       "  </thead>\n",
       "  <tbody>\n",
       "    <tr>\n",
       "      <th>0</th>\n",
       "      <td>{'max_depth': 1, 'min_samples_split': 2}</td>\n",
       "      <td>0.691667</td>\n",
       "      <td>13</td>\n",
       "      <td>0.708333</td>\n",
       "      <td>0.708333</td>\n",
       "      <td>0.708333</td>\n",
       "    </tr>\n",
       "    <tr>\n",
       "      <th>1</th>\n",
       "      <td>{'max_depth': 1, 'min_samples_split': 3}</td>\n",
       "      <td>0.691667</td>\n",
       "      <td>13</td>\n",
       "      <td>0.708333</td>\n",
       "      <td>0.708333</td>\n",
       "      <td>0.708333</td>\n",
       "    </tr>\n",
       "    <tr>\n",
       "      <th>2</th>\n",
       "      <td>{'max_depth': 1, 'min_samples_split': 5}</td>\n",
       "      <td>0.691667</td>\n",
       "      <td>13</td>\n",
       "      <td>0.708333</td>\n",
       "      <td>0.708333</td>\n",
       "      <td>0.708333</td>\n",
       "    </tr>\n",
       "    <tr>\n",
       "      <th>3</th>\n",
       "      <td>{'max_depth': 2, 'min_samples_split': 2}</td>\n",
       "      <td>0.958333</td>\n",
       "      <td>1</td>\n",
       "      <td>0.958333</td>\n",
       "      <td>1.000000</td>\n",
       "      <td>0.958333</td>\n",
       "    </tr>\n",
       "    <tr>\n",
       "      <th>4</th>\n",
       "      <td>{'max_depth': 2, 'min_samples_split': 3}</td>\n",
       "      <td>0.958333</td>\n",
       "      <td>1</td>\n",
       "      <td>0.958333</td>\n",
       "      <td>1.000000</td>\n",
       "      <td>0.958333</td>\n",
       "    </tr>\n",
       "    <tr>\n",
       "      <th>5</th>\n",
       "      <td>{'max_depth': 2, 'min_samples_split': 5}</td>\n",
       "      <td>0.958333</td>\n",
       "      <td>1</td>\n",
       "      <td>0.958333</td>\n",
       "      <td>1.000000</td>\n",
       "      <td>0.958333</td>\n",
       "    </tr>\n",
       "    <tr>\n",
       "      <th>6</th>\n",
       "      <td>{'max_depth': 3, 'min_samples_split': 2}</td>\n",
       "      <td>0.941667</td>\n",
       "      <td>4</td>\n",
       "      <td>1.000000</td>\n",
       "      <td>1.000000</td>\n",
       "      <td>1.000000</td>\n",
       "    </tr>\n",
       "    <tr>\n",
       "      <th>7</th>\n",
       "      <td>{'max_depth': 3, 'min_samples_split': 3}</td>\n",
       "      <td>0.941667</td>\n",
       "      <td>4</td>\n",
       "      <td>1.000000</td>\n",
       "      <td>1.000000</td>\n",
       "      <td>1.000000</td>\n",
       "    </tr>\n",
       "    <tr>\n",
       "      <th>8</th>\n",
       "      <td>{'max_depth': 3, 'min_samples_split': 5}</td>\n",
       "      <td>0.941667</td>\n",
       "      <td>4</td>\n",
       "      <td>1.000000</td>\n",
       "      <td>1.000000</td>\n",
       "      <td>1.000000</td>\n",
       "    </tr>\n",
       "    <tr>\n",
       "      <th>9</th>\n",
       "      <td>{'max_depth': 4, 'min_samples_split': 2}</td>\n",
       "      <td>0.941667</td>\n",
       "      <td>4</td>\n",
       "      <td>0.958333</td>\n",
       "      <td>1.000000</td>\n",
       "      <td>1.000000</td>\n",
       "    </tr>\n",
       "    <tr>\n",
       "      <th>10</th>\n",
       "      <td>{'max_depth': 4, 'min_samples_split': 3}</td>\n",
       "      <td>0.916667</td>\n",
       "      <td>11</td>\n",
       "      <td>0.958333</td>\n",
       "      <td>1.000000</td>\n",
       "      <td>1.000000</td>\n",
       "    </tr>\n",
       "    <tr>\n",
       "      <th>11</th>\n",
       "      <td>{'max_depth': 4, 'min_samples_split': 5}</td>\n",
       "      <td>0.941667</td>\n",
       "      <td>4</td>\n",
       "      <td>1.000000</td>\n",
       "      <td>1.000000</td>\n",
       "      <td>1.000000</td>\n",
       "    </tr>\n",
       "    <tr>\n",
       "      <th>12</th>\n",
       "      <td>{'max_depth': 5, 'min_samples_split': 2}</td>\n",
       "      <td>0.941667</td>\n",
       "      <td>4</td>\n",
       "      <td>0.958333</td>\n",
       "      <td>1.000000</td>\n",
       "      <td>1.000000</td>\n",
       "    </tr>\n",
       "    <tr>\n",
       "      <th>13</th>\n",
       "      <td>{'max_depth': 5, 'min_samples_split': 3}</td>\n",
       "      <td>0.916667</td>\n",
       "      <td>11</td>\n",
       "      <td>0.958333</td>\n",
       "      <td>1.000000</td>\n",
       "      <td>1.000000</td>\n",
       "    </tr>\n",
       "    <tr>\n",
       "      <th>14</th>\n",
       "      <td>{'max_depth': 5, 'min_samples_split': 5}</td>\n",
       "      <td>0.941667</td>\n",
       "      <td>4</td>\n",
       "      <td>1.000000</td>\n",
       "      <td>1.000000</td>\n",
       "      <td>1.000000</td>\n",
       "    </tr>\n",
       "  </tbody>\n",
       "</table>\n",
       "</div>"
      ],
      "text/plain": [
       "                                      params  mean_test_score  \\\n",
       "0   {'max_depth': 1, 'min_samples_split': 2}         0.691667   \n",
       "1   {'max_depth': 1, 'min_samples_split': 3}         0.691667   \n",
       "2   {'max_depth': 1, 'min_samples_split': 5}         0.691667   \n",
       "3   {'max_depth': 2, 'min_samples_split': 2}         0.958333   \n",
       "4   {'max_depth': 2, 'min_samples_split': 3}         0.958333   \n",
       "5   {'max_depth': 2, 'min_samples_split': 5}         0.958333   \n",
       "6   {'max_depth': 3, 'min_samples_split': 2}         0.941667   \n",
       "7   {'max_depth': 3, 'min_samples_split': 3}         0.941667   \n",
       "8   {'max_depth': 3, 'min_samples_split': 5}         0.941667   \n",
       "9   {'max_depth': 4, 'min_samples_split': 2}         0.941667   \n",
       "10  {'max_depth': 4, 'min_samples_split': 3}         0.916667   \n",
       "11  {'max_depth': 4, 'min_samples_split': 5}         0.941667   \n",
       "12  {'max_depth': 5, 'min_samples_split': 2}         0.941667   \n",
       "13  {'max_depth': 5, 'min_samples_split': 3}         0.916667   \n",
       "14  {'max_depth': 5, 'min_samples_split': 5}         0.941667   \n",
       "\n",
       "    rank_test_score  split0_test_score  split1_test_score  split2_test_score  \n",
       "0                13           0.708333           0.708333           0.708333  \n",
       "1                13           0.708333           0.708333           0.708333  \n",
       "2                13           0.708333           0.708333           0.708333  \n",
       "3                 1           0.958333           1.000000           0.958333  \n",
       "4                 1           0.958333           1.000000           0.958333  \n",
       "5                 1           0.958333           1.000000           0.958333  \n",
       "6                 4           1.000000           1.000000           1.000000  \n",
       "7                 4           1.000000           1.000000           1.000000  \n",
       "8                 4           1.000000           1.000000           1.000000  \n",
       "9                 4           0.958333           1.000000           1.000000  \n",
       "10               11           0.958333           1.000000           1.000000  \n",
       "11                4           1.000000           1.000000           1.000000  \n",
       "12                4           0.958333           1.000000           1.000000  \n",
       "13               11           0.958333           1.000000           1.000000  \n",
       "14                4           1.000000           1.000000           1.000000  "
      ]
     },
     "execution_count": 6,
     "metadata": {},
     "output_type": "execute_result"
    }
   ],
   "source": [
    "from sklearn.model_selection import GridSearchCV\n",
    "from sklearn.datasets import load_iris\n",
    "from sklearn.tree import DecisionTreeClassifier\n",
    "from sklearn.model_selection import train_test_split\n",
    "\n",
    "iris = load_iris()\n",
    "\n",
    "X = iris.data\n",
    "y = iris.target\n",
    "\n",
    "X_train, X_test, y_train, y_test = train_test_split(X,y, test_size=0.2)\n",
    "\n",
    "dt_clf = DecisionTreeClassifier(random_state=156)\n",
    "\n",
    "grid_parameters = {'max_depth' : [1,2,3,4,5],\n",
    "                   'min_samples_split' : [2,3,5]\n",
    "                  }\n",
    "\n",
    "grid_dtree = GridSearchCV(dt_clf, param_grid=grid_parameters, refit=True)\n",
    "\n",
    "# grid_parameters를 순차적으로 학습/평가\n",
    "grid_dtree.fit(X_train, y_train)\n",
    "\n",
    "# GridSearchCV 결과를 추출하여 DataFrame으로 변환\n",
    "score_df = pd.DataFrame(grid_dtree.cv_results_)\n",
    "score_df[['params','mean_test_score','rank_test_score','split0_test_score','split1_test_score','split2_test_score']]\n"
   ]
  },
  {
   "cell_type": "code",
   "execution_count": null,
   "id": "c550b787-3976-423b-b153-e407441b9b9c",
   "metadata": {
    "pycharm": {
     "name": "#%%\n"
    }
   },
   "outputs": [],
   "source": []
  }
 ],
 "metadata": {
  "kernelspec": {
   "display_name": "Python 3.9.13 64-bit",
   "language": "python",
   "name": "python3"
  },
  "language_info": {
   "codemirror_mode": {
    "name": "ipython",
    "version": 3
   },
   "file_extension": ".py",
   "mimetype": "text/x-python",
   "name": "python",
   "nbconvert_exporter": "python",
   "pygments_lexer": "ipython3",
   "version": "3.9.13"
  },
  "vscode": {
   "interpreter": {
    "hash": "b0fa6594d8f4cbf19f97940f81e996739fb7646882a419484c72d19e05852a7e"
   }
  }
 },
 "nbformat": 4,
 "nbformat_minor": 5
}
