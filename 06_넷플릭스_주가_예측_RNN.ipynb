{
  "cells": [
    {
      "cell_type": "markdown",
      "metadata": {
        "id": "view-in-github",
        "colab_type": "text"
      },
      "source": [
        "<a href=\"https://colab.research.google.com/github/jeong-wooseok/ML_Study/blob/main/06_%EB%84%B7%ED%94%8C%EB%A6%AD%EC%8A%A4_%EC%A3%BC%EA%B0%80_%EC%98%88%EC%B8%A1_RNN.ipynb\" target=\"_parent\"><img src=\"https://colab.research.google.com/assets/colab-badge.svg\" alt=\"Open In Colab\"/></a>"
      ]
    },
    {
      "cell_type": "markdown",
      "id": "c9634006",
      "metadata": {
        "id": "c9634006"
      },
      "source": [
        "# 개요"
      ]
    },
    {
      "cell_type": "markdown",
      "id": "1b02d875",
      "metadata": {
        "id": "1b02d875"
      },
      "source": [
        "## 학습 목표\n",
        "    - 시간에 따른 특징을 갖는 시계열 데이터 다루기\n",
        "    - RNN을 이용 주식 데이터 학습 및 다음날 종가 예측"
      ]
    },
    {
      "cell_type": "markdown",
      "id": "f0885ac9",
      "metadata": {
        "id": "f0885ac9"
      },
      "source": [
        "## 학습 순서"
      ]
    },
    {
      "cell_type": "markdown",
      "id": "431d1315",
      "metadata": {
        "id": "431d1315"
      },
      "source": [
        "<img src='./figs/06_01.png'>"
      ]
    },
    {
      "cell_type": "markdown",
      "id": "ae458051",
      "metadata": {
        "id": "ae458051"
      },
      "source": [
        "# 이해하기 : RNN\n",
        "- 순서가 있는 데이터는, 순서를 고려한 모델 설계를 해야 한다\n",
        "- 모델이 과거와 현재 정보를 다 가지고 있어야 한다.\n",
        "- 모델이 보낸 과거의 출력을, 다시 입력으로 넣어 주는, 되풀이(recurrent) 되는 구조\n",
        "- 이를 RNN (recurrent neural network) 라고 한다"
      ]
    },
    {
      "cell_type": "markdown",
      "id": "129d7270",
      "metadata": {
        "id": "129d7270"
      },
      "source": [
        "<img src='./figs/06_02.png'>"
      ]
    },
    {
      "cell_type": "markdown",
      "id": "c6247ea7",
      "metadata": {
        "id": "c6247ea7"
      },
      "source": [
        "- RNN에서 각 신경망 각 층은 한 시점(cell)\n",
        "- 모든 시점에서의 가중치는 전부 공유 되고 있음\n",
        "- 모든 시점에서의 출력은 다음 시점의 입력값과 합쳐져 가중치가 적용\n",
        "- 최종 출력값이 출력, 출력층 이전의 출력은 은닉 상태\n",
        "- 입력층은 모델의 시작으로 이전의 은닉 상태가 존재하지 않아 랜덤한 값을 줌\n",
        "\n",
        "## 장점\n",
        "- 이전 정보를 현재 시점에 이용, 시간에 대한 정보 추출 가능\n",
        "- 같은 가중치를 반복 사용, 가중치 수가 적다\n",
        "\n",
        "## 단점\n",
        "- 같은 가중치를 여러번 반복 사용, 계산 시간 오래 걸림\n",
        "- 시계열이 길어질 수록 앞의 정보가 점점 흐려진다"
      ]
    },
    {
      "cell_type": "markdown",
      "id": "ecf990c8",
      "metadata": {
        "id": "ecf990c8"
      },
      "source": [
        "# 데이터 살펴보기\n",
        "- 넷플릭스 주가의 하루 시가, 고가, 저가 정보로\n",
        "- 다음 날의 종가 예측"
      ]
    },
    {
      "cell_type": "code",
      "execution_count": 12,
      "id": "9f64e915",
      "metadata": {
        "colab": {
          "base_uri": "https://localhost:8080/"
        },
        "id": "9f64e915",
        "outputId": "4b80da1c-cce4-425f-bd4e-d12b74dd77b6"
      },
      "outputs": [
        {
          "output_type": "stream",
          "name": "stdout",
          "text": [
            "Drive already mounted at /content/drive; to attempt to forcibly remount, call drive.mount(\"/content/drive\", force_remount=True).\n",
            "<class 'pandas.core.frame.DataFrame'>\n",
            "RangeIndex: 1009 entries, 0 to 1008\n",
            "Data columns (total 6 columns):\n",
            " #   Column  Non-Null Count  Dtype  \n",
            "---  ------  --------------  -----  \n",
            " 0   Date    1009 non-null   object \n",
            " 1   Open    1009 non-null   float64\n",
            " 2   High    1009 non-null   float64\n",
            " 3   Low     1009 non-null   float64\n",
            " 4   Volume  1009 non-null   int64  \n",
            " 5   Close   1009 non-null   float64\n",
            "dtypes: float64(4), int64(1), object(1)\n",
            "memory usage: 47.4+ KB\n"
          ]
        }
      ],
      "source": [
        "import pandas as pd\n",
        "from google.colab import drive\n",
        "drive.mount('/content/drive')\n",
        "path = '/content/drive/MyDrive/SelfStudy/딥러닝기초/CH06.csv'\n",
        "path2 = '/content/drive/MyDrive/SelfStudy/딥러닝기초/output'\n",
        "\n",
        "df = pd.read_csv(path)\n",
        "# df = pd.read_csv('./datasets/CH06.csv')\n",
        "df.info()"
      ]
    },
    {
      "cell_type": "code",
      "execution_count": 2,
      "id": "cfe0fd1a",
      "metadata": {
        "id": "cfe0fd1a",
        "outputId": "bba87ef4-65bc-4747-c6fe-5dd1eb6111fb",
        "colab": {
          "base_uri": "https://localhost:8080/"
        }
      },
      "outputs": [
        {
          "output_type": "execute_result",
          "data": {
            "text/plain": [
              "Index(['Date', 'Open', 'High', 'Low', 'Volume', 'Close'], dtype='object')"
            ]
          },
          "metadata": {},
          "execution_count": 2
        }
      ],
      "source": [
        "df.columns"
      ]
    },
    {
      "cell_type": "code",
      "execution_count": 3,
      "id": "78af87da",
      "metadata": {
        "id": "78af87da",
        "outputId": "b84a2e64-4c98-4d9d-ab75-cf9f226d217c",
        "colab": {
          "base_uri": "https://localhost:8080/",
          "height": 487
        }
      },
      "outputs": [
        {
          "output_type": "display_data",
          "data": {
            "text/plain": [
              "<Figure size 640x480 with 4 Axes>"
            ],
            "image/png": "[encoded data removed]"
          },
          "metadata": {}
        }
      ],
      "source": [
        "import matplotlib.pyplot as plt\n",
        "\n",
        "cols = ['Open', 'High', 'Low', 'Close']\n",
        "df_tmp = df[cols]\n",
        "df_tmp.hist()\n",
        "plt.tight_layout()\n",
        "plt.show()"
      ]
    },
    {
      "cell_type": "markdown",
      "id": "1a3b0e1e",
      "metadata": {
        "id": "1a3b0e1e"
      },
      "source": [
        "# 학습용 데이터 만들기"
      ]
    },
    {
      "cell_type": "markdown",
      "id": "9f2af00f",
      "metadata": {
        "id": "9f2af00f"
      },
      "source": [
        "- RNN은 여러 시점의 값을 입력 받는다\n",
        "- 입력 데이터에는 하루치 개장가, 최고가, 최저가를 묶어 입력 데이터의 한 시점으로 본다\n",
        "- 종가 데이터는 하루치 종가를 한 시점으로 본다\n",
        "- 배치 단위는 30일 치로 한다. (원하는 대로 하면 되는 값)\n",
        "- 오늘의 개장가, 최고가, 최저가로, 내일의 종가를 맞추는 것이 목적"
      ]
    },
    {
      "cell_type": "markdown",
      "id": "698245f0",
      "metadata": {
        "id": "698245f0"
      },
      "source": [
        "<img src='./figs/06_03.png'>"
      ]
    },
    {
      "cell_type": "code",
      "execution_count": 5,
      "id": "4dc0f4e7",
      "metadata": {
        "id": "4dc0f4e7"
      },
      "outputs": [],
      "source": [
        "import numpy as np\n",
        "from torch.utils.data.dataset import Dataset\n",
        "\n",
        "class Netflix(Dataset):\n",
        "    def __init__(self):\n",
        "        self.df = pd.read_csv(path)\n",
        "        target_cols = ['Open', 'High', 'Low', 'Close']\n",
        "        self.df = self.df[target_cols]\n",
        "        self.df = (self.df - np.min(self.df, axis=0))/(np.max(self.df, axis=0) - np.min(self.df, axis=0))\n",
        "\n",
        "        self.data = self.df.iloc[:, :-1]\n",
        "        self.label = self.df.iloc[:, -1]\n",
        "\n",
        "    def __len__(self):\n",
        "        return len(self.data) - 30 # 사용 가능한 배치 개수\n",
        "\n",
        "    def __getitem__(self, i):\n",
        "        data = self.data[i:i+30].values # i부터 i+29일 까지의 data (30, 3)\n",
        "        label = self.label[i+30] # i+30일의 label\n",
        "        return data, label"
      ]
    },
    {
      "cell_type": "markdown",
      "id": "6b1715df",
      "metadata": {
        "id": "6b1715df"
      },
      "source": [
        "<img src='./figs/06_04.png'>"
      ]
    },
    {
      "cell_type": "markdown",
      "id": "d60e634b",
      "metadata": {
        "id": "d60e634b"
      },
      "source": [
        "# RNN 모델 정의하기"
      ]
    },
    {
      "cell_type": "markdown",
      "id": "67149635",
      "metadata": {
        "id": "67149635"
      },
      "source": [
        "<img src='./figs/06_05.png'>"
      ]
    },
    {
      "cell_type": "markdown",
      "id": "57100431",
      "metadata": {
        "id": "57100431"
      },
      "source": [
        "- RNN 층의 동그라미 하나가 시점 (배치마다 30일치 시점 사용, 동그라미가 30개 여야)\n",
        "- 각 시점에서 출력, 즉 은닉 상태가 다음 RNN 층과 같은 시점과, 같은 RNN층의 다음 시점으로 들어감\n",
        "- RNN의 출력을 MLP 로 입력"
      ]
    },
    {
      "cell_type": "markdown",
      "id": "ca20b7d9",
      "metadata": {
        "id": "ca20b7d9"
      },
      "source": [
        "<img src='./figs/06_06.png'>"
      ]
    },
    {
      "cell_type": "code",
      "execution_count": 6,
      "id": "0c7fa819",
      "metadata": {
        "id": "0c7fa819"
      },
      "outputs": [],
      "source": [
        "import torch\n",
        "import torch.nn as nn\n",
        "\n",
        "class RNN(nn.Module):\n",
        "    def __init__(self):\n",
        "        super(RNN, self).__init__()\n",
        "\n",
        "        # RNN층 정의\n",
        "        self.rnn = nn.RNN(input_size=3, hidden_size=8,\n",
        "                          num_layers=5, batch_first=True) # input shape 은 (batch_size, 시계열 길이, input_size)\n",
        "        self.fc1 = nn.Linear(in_features=240, out_features=64)\n",
        "        self.fc2 = nn.Linear(in_features=64, out_features=1)\n",
        "\n",
        "        self.relu = nn.ReLU()\n",
        "\n",
        "    def forward(self, x, h0):\n",
        "        x, h0 = self.rnn(x, h0)\n",
        "\n",
        "        x = torch.reshape(x, (x.shape[0], -1))\n",
        "        x = self.fc1(x)\n",
        "        x = self.relu(x)\n",
        "        x = self.fc2(x)\n",
        "\n",
        "        x = torch.flatten(x)\n",
        "        return x"
      ]
    },
    {
      "cell_type": "markdown",
      "id": "4b6d4d7e",
      "metadata": {
        "id": "4b6d4d7e"
      },
      "source": [
        "- input_size: RNN 모델의 입력 벡터의 크기입니다. 즉, 각 시점(time step)의 입력으로 주어지는 데이터의 차원 수를 의미합니다. input_size=3이면 각 시점에서 3차원(개장가, 최고가, 최저가)의 입력이 주어진다는 것을 의미합니다.\n",
        "\n",
        "- hidden_size: RNN 모델의 은닉 상태 벡터의 크기입니다. RNN은 시간에 따라 정보를 전달하면서 내부적으로 은닉 상태를 유지합니다. hidden_size는 은닉 상태의 차원 수를 나타냅니다. 이 값은 RNN이 가진 은닉 상태의 표현 능력을 결정합니다. 더 큰 hidden_size는 더 많은 정보를 저장할 수 있지만, 모델의 파라미터 수와 계산 비용이 증가할 수 있습니다.\n",
        "\n",
        "- num_layers: RNN 모델의 층(layer) 수를 의미합니다. RNN을 여러 층으로 쌓을 경우, 이를 통해 더 복잡한 시계열 패턴을 학습할 수 있습니다. num_layers=5는 5개의 RNN 층을 쌓는다는 것을 의미합니다.\n",
        "\n",
        "    - hidden_size는 RNN의 각 층에서의 은닉 상태 벡터의 크기를 지정하는 것이며, num_layers는 RNN 층을 여러 개 쌓는데 사용되는 매개변수입니다. hidden_size는 각 층에서의 은닉 상태 벡터의 크기를 결정하고, num_layers는 여러 층을 쌓아서 더 복잡한 모델을 구성할 수 있도록 합니다.\n",
        "\n",
        "- batch_first는 배치 차원이 가장 앞에 오게 하는 것 (32가 배치 차원), 여기서는, (32, 30, 3) (배치, 30일치, 개장가/최고가/최저가)\n",
        "- fc1의 in_features는, 30일치*hidden_size(8) = 240 (아래 식 참조)\n",
        "- RNN층은 출력이 2개\n",
        "    - x는 마지막 RNN 층의 은닉상태 (우리가 사용 할 값)\n",
        "    - 두번째 hn 은 모든 RNN 층의 은닉 상태\n",
        "- 시계열의 차원을 제거해 MLP의 입력으로 사용 (2차원을 1차원으로 바뀜)"
      ]
    },
    {
      "cell_type": "markdown",
      "id": "348fa3a1",
      "metadata": {
        "id": "348fa3a1"
      },
      "source": [
        "<img src='./figs/06_rnn.png'>\n",
        "\n",
        "- [소스](https://coding-yoon.tistory.com/55)"
      ]
    },
    {
      "cell_type": "markdown",
      "id": "36a6bff5",
      "metadata": {
        "id": "36a6bff5"
      },
      "source": [
        "<img src='./figs/06_07.png'>"
      ]
    },
    {
      "cell_type": "markdown",
      "id": "99e80fb5",
      "metadata": {
        "id": "99e80fb5"
      },
      "source": [
        "- MLP 층으로 종가 예측\n",
        "- 종가는 하나의 숫자, (배치, 1) 형태"
      ]
    },
    {
      "cell_type": "markdown",
      "id": "2eb3e900",
      "metadata": {
        "id": "2eb3e900"
      },
      "source": [
        "# 모델 학습하기"
      ]
    },
    {
      "cell_type": "markdown",
      "id": "ec30ffd0",
      "metadata": {
        "id": "ec30ffd0"
      },
      "source": [
        "<img src='./figs/06_08.png'>"
      ]
    },
    {
      "cell_type": "code",
      "execution_count": 7,
      "id": "535f244d",
      "metadata": {
        "id": "535f244d",
        "outputId": "a33cf2f7-ad4e-4b12-ce40-9df2bfc5fd50",
        "colab": {
          "base_uri": "https://localhost:8080/"
        }
      },
      "outputs": [
        {
          "output_type": "stream",
          "name": "stdout",
          "text": [
            "cpu\n"
          ]
        }
      ],
      "source": [
        "import tqdm\n",
        "\n",
        "from torch.optim.adam import Adam\n",
        "from torch.utils.data.dataloader import DataLoader\n",
        "\n",
        "device = 'cuda' if torch.cuda.is_available() else 'cpu'\n",
        "print(device)"
      ]
    },
    {
      "cell_type": "code",
      "execution_count": 8,
      "id": "f7dc23e0",
      "metadata": {
        "id": "f7dc23e0"
      },
      "outputs": [],
      "source": [
        "model = RNN().to(device)\n",
        "dataset = Netflix()\n",
        "loader = DataLoader(dataset, batch_size=32)\n",
        "optim = Adam(params=model.parameters(), lr=0.0001)\n",
        "loss_fn = nn.MSELoss().to(device)"
      ]
    },
    {
      "cell_type": "code",
      "execution_count": 13,
      "id": "dd290c07",
      "metadata": {
        "id": "dd290c07",
        "outputId": "cc813e93-ba8a-4df2-e728-fb94fa45e8b8",
        "colab": {
          "base_uri": "https://localhost:8080/"
        }
      },
      "outputs": [
        {
          "output_type": "stream",
          "name": "stderr",
          "text": [
            "epoch : 1, loss : 0.005: 100%|██████████| 31/31 [00:00<00:00, 32.47it/s]\n",
            "epoch : 2, loss : 0.005: 100%|██████████| 31/31 [00:00<00:00, 44.61it/s]\n",
            "epoch : 3, loss : 0.005: 100%|██████████| 31/31 [00:00<00:00, 43.08it/s]\n",
            "epoch : 4, loss : 0.005: 100%|██████████| 31/31 [00:00<00:00, 43.39it/s]\n",
            "epoch : 5, loss : 0.005: 100%|██████████| 31/31 [00:00<00:00, 45.79it/s]\n",
            "epoch : 6, loss : 0.005: 100%|██████████| 31/31 [00:00<00:00, 43.89it/s]\n",
            "epoch : 7, loss : 0.005: 100%|██████████| 31/31 [00:00<00:00, 45.04it/s]\n",
            "epoch : 8, loss : 0.005: 100%|██████████| 31/31 [00:00<00:00, 43.14it/s]\n",
            "epoch : 9, loss : 0.005: 100%|██████████| 31/31 [00:00<00:00, 43.86it/s]\n",
            "epoch : 10, loss : 0.005: 100%|██████████| 31/31 [00:00<00:00, 43.70it/s]\n",
            "epoch : 11, loss : 0.004: 100%|██████████| 31/31 [00:00<00:00, 44.95it/s]\n",
            "epoch : 12, loss : 0.005: 100%|██████████| 31/31 [00:00<00:00, 44.73it/s]\n",
            "epoch : 13, loss : 0.004: 100%|██████████| 31/31 [00:00<00:00, 44.06it/s]\n",
            "epoch : 14, loss : 0.005: 100%|██████████| 31/31 [00:00<00:00, 45.11it/s]\n",
            "epoch : 15, loss : 0.004: 100%|██████████| 31/31 [00:00<00:00, 45.46it/s]\n",
            "epoch : 16, loss : 0.005: 100%|██████████| 31/31 [00:00<00:00, 33.75it/s]\n",
            "epoch : 17, loss : 0.004: 100%|██████████| 31/31 [00:00<00:00, 31.25it/s]\n",
            "epoch : 18, loss : 0.004: 100%|██████████| 31/31 [00:00<00:00, 31.26it/s]\n",
            "epoch : 19, loss : 0.004: 100%|██████████| 31/31 [00:00<00:00, 31.72it/s]\n",
            "epoch : 20, loss : 0.004: 100%|██████████| 31/31 [00:00<00:00, 32.45it/s]\n",
            "epoch : 21, loss : 0.004: 100%|██████████| 31/31 [00:00<00:00, 37.66it/s]\n",
            "epoch : 22, loss : 0.004: 100%|██████████| 31/31 [00:00<00:00, 44.08it/s]\n",
            "epoch : 23, loss : 0.004: 100%|██████████| 31/31 [00:00<00:00, 43.93it/s]\n",
            "epoch : 24, loss : 0.004: 100%|██████████| 31/31 [00:00<00:00, 44.68it/s]\n",
            "epoch : 25, loss : 0.004: 100%|██████████| 31/31 [00:00<00:00, 44.65it/s]\n",
            "epoch : 26, loss : 0.004: 100%|██████████| 31/31 [00:00<00:00, 43.63it/s]\n",
            "epoch : 27, loss : 0.004: 100%|██████████| 31/31 [00:00<00:00, 43.43it/s]\n",
            "epoch : 28, loss : 0.004: 100%|██████████| 31/31 [00:00<00:00, 44.66it/s]\n",
            "epoch : 29, loss : 0.004: 100%|██████████| 31/31 [00:00<00:00, 44.56it/s]\n",
            "epoch : 30, loss : 0.004: 100%|██████████| 31/31 [00:00<00:00, 43.86it/s]\n",
            "epoch : 31, loss : 0.004: 100%|██████████| 31/31 [00:00<00:00, 43.44it/s]\n",
            "epoch : 32, loss : 0.004: 100%|██████████| 31/31 [00:00<00:00, 45.11it/s]\n",
            "epoch : 33, loss : 0.004: 100%|██████████| 31/31 [00:00<00:00, 42.62it/s]\n",
            "epoch : 34, loss : 0.004: 100%|██████████| 31/31 [00:00<00:00, 43.12it/s]\n",
            "epoch : 35, loss : 0.004: 100%|██████████| 31/31 [00:00<00:00, 35.19it/s]\n",
            "epoch : 36, loss : 0.004: 100%|██████████| 31/31 [00:00<00:00, 31.07it/s]\n",
            "epoch : 37, loss : 0.004: 100%|██████████| 31/31 [00:00<00:00, 32.84it/s]\n",
            "epoch : 38, loss : 0.004: 100%|██████████| 31/31 [00:01<00:00, 30.92it/s]\n",
            "epoch : 39, loss : 0.004: 100%|██████████| 31/31 [00:00<00:00, 31.99it/s]\n",
            "epoch : 40, loss : 0.004: 100%|██████████| 31/31 [00:00<00:00, 34.04it/s]\n",
            "epoch : 41, loss : 0.004: 100%|██████████| 31/31 [00:00<00:00, 43.72it/s]\n",
            "epoch : 42, loss : 0.004: 100%|██████████| 31/31 [00:00<00:00, 43.76it/s]\n",
            "epoch : 43, loss : 0.004: 100%|██████████| 31/31 [00:00<00:00, 44.48it/s]\n",
            "epoch : 44, loss : 0.004: 100%|██████████| 31/31 [00:00<00:00, 42.67it/s]\n",
            "epoch : 45, loss : 0.004: 100%|██████████| 31/31 [00:00<00:00, 43.51it/s]\n",
            "epoch : 46, loss : 0.004: 100%|██████████| 31/31 [00:00<00:00, 44.40it/s]\n",
            "epoch : 47, loss : 0.004: 100%|██████████| 31/31 [00:00<00:00, 42.32it/s]\n",
            "epoch : 48, loss : 0.004: 100%|██████████| 31/31 [00:00<00:00, 43.88it/s]\n",
            "epoch : 49, loss : 0.004: 100%|██████████| 31/31 [00:00<00:00, 43.21it/s]\n",
            "epoch : 50, loss : 0.004: 100%|██████████| 31/31 [00:00<00:00, 43.56it/s]\n",
            "epoch : 51, loss : 0.004: 100%|██████████| 31/31 [00:00<00:00, 43.46it/s]\n",
            "epoch : 52, loss : 0.004: 100%|██████████| 31/31 [00:00<00:00, 42.35it/s]\n",
            "epoch : 53, loss : 0.004: 100%|██████████| 31/31 [00:00<00:00, 43.06it/s]\n",
            "epoch : 54, loss : 0.004: 100%|██████████| 31/31 [00:00<00:00, 37.07it/s]\n",
            "epoch : 55, loss : 0.004: 100%|██████████| 31/31 [00:00<00:00, 32.72it/s]\n",
            "epoch : 56, loss : 0.004: 100%|██████████| 31/31 [00:01<00:00, 30.38it/s]\n",
            "epoch : 57, loss : 0.004: 100%|██████████| 31/31 [00:01<00:00, 30.06it/s]\n",
            "epoch : 58, loss : 0.004: 100%|██████████| 31/31 [00:01<00:00, 30.08it/s]\n",
            "epoch : 59, loss : 0.004: 100%|██████████| 31/31 [00:00<00:00, 32.08it/s]\n",
            "epoch : 60, loss : 0.004: 100%|██████████| 31/31 [00:00<00:00, 44.60it/s]\n",
            "epoch : 61, loss : 0.004: 100%|██████████| 31/31 [00:00<00:00, 43.56it/s]\n",
            "epoch : 62, loss : 0.004: 100%|██████████| 31/31 [00:00<00:00, 42.49it/s]\n",
            "epoch : 63, loss : 0.004: 100%|██████████| 31/31 [00:00<00:00, 44.86it/s]\n",
            "epoch : 64, loss : 0.004: 100%|██████████| 31/31 [00:00<00:00, 44.18it/s]\n",
            "epoch : 65, loss : 0.004: 100%|██████████| 31/31 [00:00<00:00, 43.70it/s]\n",
            "epoch : 66, loss : 0.004: 100%|██████████| 31/31 [00:00<00:00, 44.17it/s]\n",
            "epoch : 67, loss : 0.004: 100%|██████████| 31/31 [00:00<00:00, 44.92it/s]\n",
            "epoch : 68, loss : 0.004: 100%|██████████| 31/31 [00:00<00:00, 43.07it/s]\n",
            "epoch : 69, loss : 0.004: 100%|██████████| 31/31 [00:00<00:00, 43.22it/s]\n",
            "epoch : 70, loss : 0.004: 100%|██████████| 31/31 [00:00<00:00, 43.53it/s]\n",
            "epoch : 71, loss : 0.004: 100%|██████████| 31/31 [00:00<00:00, 42.91it/s]\n",
            "epoch : 72, loss : 0.004: 100%|██████████| 31/31 [00:00<00:00, 43.00it/s]\n",
            "epoch : 73, loss : 0.004: 100%|██████████| 31/31 [00:00<00:00, 39.62it/s]\n",
            "epoch : 74, loss : 0.004: 100%|██████████| 31/31 [00:00<00:00, 31.87it/s]\n",
            "epoch : 75, loss : 0.004: 100%|██████████| 31/31 [00:01<00:00, 29.25it/s]\n",
            "epoch : 76, loss : 0.004: 100%|██████████| 31/31 [00:00<00:00, 31.21it/s]\n",
            "epoch : 77, loss : 0.004: 100%|██████████| 31/31 [00:01<00:00, 29.98it/s]\n",
            "epoch : 78, loss : 0.004: 100%|██████████| 31/31 [00:00<00:00, 31.95it/s]\n",
            "epoch : 79, loss : 0.004: 100%|██████████| 31/31 [00:00<00:00, 42.99it/s]\n",
            "epoch : 80, loss : 0.004: 100%|██████████| 31/31 [00:00<00:00, 43.76it/s]\n",
            "epoch : 81, loss : 0.004: 100%|██████████| 31/31 [00:00<00:00, 42.86it/s]\n",
            "epoch : 82, loss : 0.004: 100%|██████████| 31/31 [00:00<00:00, 44.02it/s]\n",
            "epoch : 83, loss : 0.004: 100%|██████████| 31/31 [00:00<00:00, 42.60it/s]\n",
            "epoch : 84, loss : 0.004: 100%|██████████| 31/31 [00:00<00:00, 42.32it/s]\n",
            "epoch : 85, loss : 0.004: 100%|██████████| 31/31 [00:00<00:00, 43.09it/s]\n",
            "epoch : 86, loss : 0.005: 100%|██████████| 31/31 [00:00<00:00, 43.32it/s]\n",
            "epoch : 87, loss : 0.004: 100%|██████████| 31/31 [00:00<00:00, 42.73it/s]\n",
            "epoch : 88, loss : 0.004: 100%|██████████| 31/31 [00:00<00:00, 43.91it/s]\n",
            "epoch : 89, loss : 0.004: 100%|██████████| 31/31 [00:00<00:00, 43.02it/s]\n",
            "epoch : 90, loss : 0.004: 100%|██████████| 31/31 [00:00<00:00, 43.08it/s]\n",
            "epoch : 91, loss : 0.004: 100%|██████████| 31/31 [00:00<00:00, 42.10it/s]\n",
            "epoch : 92, loss : 0.004: 100%|██████████| 31/31 [00:00<00:00, 38.97it/s]\n",
            "epoch : 93, loss : 0.004: 100%|██████████| 31/31 [00:00<00:00, 31.06it/s]\n",
            "epoch : 94, loss : 0.004: 100%|██████████| 31/31 [00:00<00:00, 31.11it/s]\n",
            "epoch : 95, loss : 0.004: 100%|██████████| 31/31 [00:00<00:00, 31.23it/s]\n",
            "epoch : 96, loss : 0.004: 100%|██████████| 31/31 [00:01<00:00, 30.83it/s]\n",
            "epoch : 97, loss : 0.004: 100%|██████████| 31/31 [00:01<00:00, 29.88it/s]\n",
            "epoch : 98, loss : 0.004: 100%|██████████| 31/31 [00:00<00:00, 41.87it/s]\n",
            "epoch : 99, loss : 0.004: 100%|██████████| 31/31 [00:00<00:00, 44.37it/s]\n",
            "epoch : 100, loss : 0.004: 100%|██████████| 31/31 [00:00<00:00, 43.08it/s]\n",
            "epoch : 101, loss : 0.004: 100%|██████████| 31/31 [00:00<00:00, 43.91it/s]\n",
            "epoch : 102, loss : 0.004: 100%|██████████| 31/31 [00:00<00:00, 42.48it/s]\n",
            "epoch : 103, loss : 0.004: 100%|██████████| 31/31 [00:00<00:00, 45.33it/s]\n",
            "epoch : 104, loss : 0.004: 100%|██████████| 31/31 [00:00<00:00, 43.34it/s]\n",
            "epoch : 105, loss : 0.004: 100%|██████████| 31/31 [00:00<00:00, 43.19it/s]\n",
            "epoch : 106, loss : 0.004: 100%|██████████| 31/31 [00:00<00:00, 44.66it/s]\n",
            "epoch : 107, loss : 0.004: 100%|██████████| 31/31 [00:00<00:00, 43.91it/s]\n",
            "epoch : 108, loss : 0.004: 100%|██████████| 31/31 [00:00<00:00, 42.18it/s]\n",
            "epoch : 109, loss : 0.004: 100%|██████████| 31/31 [00:00<00:00, 43.73it/s]\n",
            "epoch : 110, loss : 0.004: 100%|██████████| 31/31 [00:00<00:00, 43.51it/s]\n",
            "epoch : 111, loss : 0.004: 100%|██████████| 31/31 [00:00<00:00, 42.08it/s]\n",
            "epoch : 112, loss : 0.003: 100%|██████████| 31/31 [00:00<00:00, 31.25it/s]\n",
            "epoch : 113, loss : 0.004: 100%|██████████| 31/31 [00:00<00:00, 32.02it/s]\n",
            "epoch : 114, loss : 0.003: 100%|██████████| 31/31 [00:01<00:00, 30.80it/s]\n",
            "epoch : 115, loss : 0.003: 100%|██████████| 31/31 [00:00<00:00, 33.51it/s]\n",
            "epoch : 116, loss : 0.003: 100%|██████████| 31/31 [00:00<00:00, 33.71it/s]\n",
            "epoch : 117, loss : 0.004: 100%|██████████| 31/31 [00:00<00:00, 32.11it/s]\n",
            "epoch : 118, loss : 0.004: 100%|██████████| 31/31 [00:00<00:00, 42.51it/s]\n",
            "epoch : 119, loss : 0.004: 100%|██████████| 31/31 [00:00<00:00, 42.65it/s]\n",
            "epoch : 120, loss : 0.004: 100%|██████████| 31/31 [00:00<00:00, 42.67it/s]\n",
            "epoch : 121, loss : 0.004: 100%|██████████| 31/31 [00:00<00:00, 42.66it/s]\n",
            "epoch : 122, loss : 0.004: 100%|██████████| 31/31 [00:00<00:00, 43.92it/s]\n",
            "epoch : 123, loss : 0.004: 100%|██████████| 31/31 [00:00<00:00, 42.67it/s]\n",
            "epoch : 124, loss : 0.004: 100%|██████████| 31/31 [00:00<00:00, 43.14it/s]\n",
            "epoch : 125, loss : 0.004: 100%|██████████| 31/31 [00:00<00:00, 41.34it/s]\n",
            "epoch : 126, loss : 0.004: 100%|██████████| 31/31 [00:00<00:00, 42.68it/s]\n",
            "epoch : 127, loss : 0.004: 100%|██████████| 31/31 [00:00<00:00, 43.24it/s]\n",
            "epoch : 128, loss : 0.004: 100%|██████████| 31/31 [00:00<00:00, 42.76it/s]\n",
            "epoch : 129, loss : 0.004: 100%|██████████| 31/31 [00:00<00:00, 42.56it/s]\n",
            "epoch : 130, loss : 0.004: 100%|██████████| 31/31 [00:00<00:00, 43.57it/s]\n",
            "epoch : 131, loss : 0.004: 100%|██████████| 31/31 [00:00<00:00, 34.50it/s]\n",
            "epoch : 132, loss : 0.004: 100%|██████████| 31/31 [00:00<00:00, 31.11it/s]\n",
            "epoch : 133, loss : 0.004: 100%|██████████| 31/31 [00:00<00:00, 32.31it/s]\n",
            "epoch : 134, loss : 0.004: 100%|██████████| 31/31 [00:00<00:00, 31.42it/s]\n",
            "epoch : 135, loss : 0.004: 100%|██████████| 31/31 [00:00<00:00, 31.29it/s]\n",
            "epoch : 136, loss : 0.004: 100%|██████████| 31/31 [00:01<00:00, 29.98it/s]\n",
            "epoch : 137, loss : 0.004: 100%|██████████| 31/31 [00:00<00:00, 41.28it/s]\n",
            "epoch : 138, loss : 0.004: 100%|██████████| 31/31 [00:00<00:00, 43.07it/s]\n",
            "epoch : 139, loss : 0.004: 100%|██████████| 31/31 [00:00<00:00, 41.91it/s]\n",
            "epoch : 140, loss : 0.004: 100%|██████████| 31/31 [00:00<00:00, 43.80it/s]\n",
            "epoch : 141, loss : 0.004: 100%|██████████| 31/31 [00:00<00:00, 44.39it/s]\n",
            "epoch : 142, loss : 0.004: 100%|██████████| 31/31 [00:00<00:00, 43.62it/s]\n",
            "epoch : 143, loss : 0.003: 100%|██████████| 31/31 [00:00<00:00, 42.79it/s]\n",
            "epoch : 144, loss : 0.004: 100%|██████████| 31/31 [00:00<00:00, 43.02it/s]\n",
            "epoch : 145, loss : 0.003: 100%|██████████| 31/31 [00:00<00:00, 41.92it/s]\n",
            "epoch : 146, loss : 0.003: 100%|██████████| 31/31 [00:00<00:00, 42.70it/s]\n",
            "epoch : 147, loss : 0.003: 100%|██████████| 31/31 [00:00<00:00, 44.19it/s]\n",
            "epoch : 148, loss : 0.003: 100%|██████████| 31/31 [00:00<00:00, 41.91it/s]\n",
            "epoch : 149, loss : 0.004: 100%|██████████| 31/31 [00:00<00:00, 42.69it/s]\n",
            "epoch : 150, loss : 0.003: 100%|██████████| 31/31 [00:00<00:00, 39.99it/s]\n",
            "epoch : 151, loss : 0.003: 100%|██████████| 31/31 [00:00<00:00, 31.23it/s]\n",
            "epoch : 152, loss : 0.003: 100%|██████████| 31/31 [00:01<00:00, 29.25it/s]\n",
            "epoch : 153, loss : 0.003: 100%|██████████| 31/31 [00:00<00:00, 32.22it/s]\n",
            "epoch : 154, loss : 0.004: 100%|██████████| 31/31 [00:00<00:00, 32.56it/s]\n",
            "epoch : 155, loss : 0.004: 100%|██████████| 31/31 [00:00<00:00, 31.67it/s]\n",
            "epoch : 156, loss : 0.004: 100%|██████████| 31/31 [00:00<00:00, 34.06it/s]\n",
            "epoch : 157, loss : 0.004: 100%|██████████| 31/31 [00:00<00:00, 41.79it/s]\n",
            "epoch : 158, loss : 0.004: 100%|██████████| 31/31 [00:00<00:00, 42.78it/s]\n",
            "epoch : 159, loss : 0.004: 100%|██████████| 31/31 [00:00<00:00, 41.42it/s]\n",
            "epoch : 160, loss : 0.004: 100%|██████████| 31/31 [00:00<00:00, 41.30it/s]\n",
            "epoch : 161, loss : 0.004: 100%|██████████| 31/31 [00:00<00:00, 41.79it/s]\n",
            "epoch : 162, loss : 0.004: 100%|██████████| 31/31 [00:00<00:00, 42.21it/s]\n",
            "epoch : 163, loss : 0.004: 100%|██████████| 31/31 [00:00<00:00, 40.49it/s]\n",
            "epoch : 164, loss : 0.004: 100%|██████████| 31/31 [00:00<00:00, 42.39it/s]\n",
            "epoch : 165, loss : 0.004: 100%|██████████| 31/31 [00:00<00:00, 42.00it/s]\n",
            "epoch : 166, loss : 0.004: 100%|██████████| 31/31 [00:00<00:00, 43.65it/s]\n",
            "epoch : 167, loss : 0.004: 100%|██████████| 31/31 [00:00<00:00, 41.71it/s]\n",
            "epoch : 168, loss : 0.004: 100%|██████████| 31/31 [00:00<00:00, 40.92it/s]\n",
            "epoch : 169, loss : 0.004: 100%|██████████| 31/31 [00:00<00:00, 40.73it/s]\n",
            "epoch : 170, loss : 0.004: 100%|██████████| 31/31 [00:01<00:00, 30.97it/s]\n",
            "epoch : 171, loss : 0.004: 100%|██████████| 31/31 [00:01<00:00, 30.59it/s]\n",
            "epoch : 172, loss : 0.004: 100%|██████████| 31/31 [00:01<00:00, 30.05it/s]\n",
            "epoch : 173, loss : 0.004: 100%|██████████| 31/31 [00:01<00:00, 30.76it/s]\n",
            "epoch : 174, loss : 0.004: 100%|██████████| 31/31 [00:00<00:00, 32.59it/s]\n",
            "epoch : 175, loss : 0.004: 100%|██████████| 31/31 [00:00<00:00, 34.64it/s]\n",
            "epoch : 176, loss : 0.004: 100%|██████████| 31/31 [00:00<00:00, 42.34it/s]\n",
            "epoch : 177, loss : 0.004: 100%|██████████| 31/31 [00:00<00:00, 43.77it/s]\n",
            "epoch : 178, loss : 0.004: 100%|██████████| 31/31 [00:00<00:00, 41.69it/s]\n",
            "epoch : 179, loss : 0.004: 100%|██████████| 31/31 [00:00<00:00, 42.27it/s]\n",
            "epoch : 180, loss : 0.004: 100%|██████████| 31/31 [00:00<00:00, 43.17it/s]\n",
            "epoch : 181, loss : 0.003: 100%|██████████| 31/31 [00:00<00:00, 42.60it/s]\n",
            "epoch : 182, loss : 0.004: 100%|██████████| 31/31 [00:00<00:00, 41.81it/s]\n",
            "epoch : 183, loss : 0.004: 100%|██████████| 31/31 [00:00<00:00, 42.58it/s]\n",
            "epoch : 184, loss : 0.003: 100%|██████████| 31/31 [00:00<00:00, 42.71it/s]\n",
            "epoch : 185, loss : 0.003: 100%|██████████| 31/31 [00:00<00:00, 41.94it/s]\n",
            "epoch : 186, loss : 0.003: 100%|██████████| 31/31 [00:00<00:00, 42.13it/s]\n",
            "epoch : 187, loss : 0.003: 100%|██████████| 31/31 [00:00<00:00, 41.67it/s]\n",
            "epoch : 188, loss : 0.003: 100%|██████████| 31/31 [00:00<00:00, 41.98it/s]\n",
            "epoch : 189, loss : 0.003: 100%|██████████| 31/31 [00:00<00:00, 31.22it/s]\n",
            "epoch : 190, loss : 0.003: 100%|██████████| 31/31 [00:00<00:00, 31.43it/s]\n",
            "epoch : 191, loss : 0.003: 100%|██████████| 31/31 [00:00<00:00, 31.21it/s]\n",
            "epoch : 192, loss : 0.003: 100%|██████████| 31/31 [00:00<00:00, 31.20it/s]\n",
            "epoch : 193, loss : 0.003: 100%|██████████| 31/31 [00:00<00:00, 33.07it/s]\n",
            "epoch : 194, loss : 0.003: 100%|██████████| 31/31 [00:01<00:00, 30.56it/s]\n",
            "epoch : 195, loss : 0.003: 100%|██████████| 31/31 [00:00<00:00, 39.07it/s]\n",
            "epoch : 196, loss : 0.003: 100%|██████████| 31/31 [00:00<00:00, 41.93it/s]\n",
            "epoch : 197, loss : 0.003: 100%|██████████| 31/31 [00:00<00:00, 42.99it/s]\n",
            "epoch : 198, loss : 0.003: 100%|██████████| 31/31 [00:00<00:00, 42.15it/s]\n",
            "epoch : 199, loss : 0.003: 100%|██████████| 31/31 [00:00<00:00, 41.79it/s]\n",
            "epoch : 200, loss : 0.003: 100%|██████████| 31/31 [00:00<00:00, 42.32it/s]\n"
          ]
        }
      ],
      "source": [
        "for epoch in range(200):\n",
        "    iterator = tqdm.tqdm(loader)\n",
        "    for data, label in iterator:\n",
        "        data, label = data.to(device), label.type(torch.FloatTensor).to(device) # data shape 은 (32, 30, 3)\n",
        "        optim.zero_grad()\n",
        "\n",
        "        h0 = torch.zeros(5, data.shape[0], 8).to(device) # 은닉층 개수, 배치 크기, 출력 차원\n",
        "        pred = model(data.type(torch.FloatTensor).to(device), h0)\n",
        "\n",
        "        loss = loss_fn(pred, label)\n",
        "        loss.backward()\n",
        "        optim.step()\n",
        "\n",
        "        iterator.set_description(f'epoch : {epoch+1}, loss : {loss.item():.3f}')\n",
        "torch.save(model.state_dict(), f'{path2}/rnn.pth')"
      ]
    },
    {
      "cell_type": "markdown",
      "id": "10c41ccb",
      "metadata": {
        "id": "10c41ccb"
      },
      "source": [
        "- 초기 은닉층의 상태는 모든 요소가 0으로 구성, shape은 (은닉층 개수, 배치 크기, 출력 차원)"
      ]
    },
    {
      "cell_type": "markdown",
      "id": "15e5f568",
      "metadata": {
        "id": "15e5f568"
      },
      "source": [
        "# 모델 성능 평가"
      ]
    },
    {
      "cell_type": "code",
      "execution_count": 15,
      "id": "9c1463f1",
      "metadata": {
        "id": "9c1463f1",
        "outputId": "025ef84c-1a41-474d-d20a-99d3a37c20c9",
        "colab": {
          "base_uri": "https://localhost:8080/"
        }
      },
      "outputs": [
        {
          "output_type": "execute_result",
          "data": {
            "text/plain": [
              "0.001679447363327545"
            ]
          },
          "metadata": {},
          "execution_count": 15
        }
      ],
      "source": [
        "import matplotlib.pyplot as plt\n",
        "\n",
        "loader = DataLoader(dataset, batch_size=1)\n",
        "\n",
        "preds = []\n",
        "total_loss = 0\n",
        "\n",
        "with torch.no_grad():\n",
        "    # 모델 가중치 불러오기\n",
        "    model.load_state_dict(torch.load(f'{path2}/rnn.pth', map_location=device))\n",
        "\n",
        "    for data, label in loader:\n",
        "        data, label = data.to(device), label.to(device)\n",
        "\n",
        "        h0 = torch.zeros(5, data.shape[0], 8).to(device) # 은닉층 개수, 배치 크기, 출력 차원\n",
        "\n",
        "        # 모델 예측값 출력\n",
        "        pred = model(data.type(torch.FloatTensor).to(device), h0)\n",
        "        preds.append(pred.item())\n",
        "\n",
        "        loss = loss_fn(pred, label)\n",
        "        total_loss += loss/len(loader)\n",
        "\n",
        "total_loss.item()"
      ]
    },
    {
      "cell_type": "code",
      "execution_count": 16,
      "id": "7695a3b6",
      "metadata": {
        "id": "7695a3b6",
        "outputId": "5b982e2f-db22-4735-c864-06de39f17227",
        "colab": {
          "base_uri": "https://localhost:8080/"
        }
      },
      "outputs": [
        {
          "output_type": "execute_result",
          "data": {
            "text/plain": [
              "Index(['Date', 'Open', 'High', 'Low', 'Volume', 'Close'], dtype='object')"
            ]
          },
          "metadata": {},
          "execution_count": 16
        }
      ],
      "source": [
        "df.columns"
      ]
    },
    {
      "cell_type": "code",
      "execution_count": 17,
      "id": "af086489",
      "metadata": {
        "id": "af086489"
      },
      "outputs": [],
      "source": [
        "date_index = df.Date[30:].values"
      ]
    },
    {
      "cell_type": "code",
      "execution_count": 18,
      "id": "31effcbd",
      "metadata": {
        "id": "31effcbd",
        "outputId": "dca12cff-9743-4358-e3dd-d84449c96dd9",
        "colab": {
          "base_uri": "https://localhost:8080/",
          "height": 455
        }
      },
      "outputs": [
        {
          "output_type": "execute_result",
          "data": {
            "text/plain": [
              "               preds    actual\n",
              "date                          \n",
              "2018-03-20  0.222467  0.182652\n",
              "2018-03-21  0.226873  0.180424\n",
              "2018-03-22  0.230024  0.159062\n",
              "2018-03-23  0.213437  0.146480\n",
              "2018-03-26  0.198850  0.188877\n",
              "...              ...       ...\n",
              "2022-01-31  0.381178  0.422140\n",
              "2022-02-01  0.424005  0.487648\n",
              "2022-02-02  0.451767  0.427251\n",
              "2022-02-03  0.432182  0.375090\n",
              "2022-02-04  0.370466  0.385072\n",
              "\n",
              "[979 rows x 2 columns]"
            ],
            "text/html": [
              "\n",
              "  <div id=\"df-589c1b9a-403a-4847-bf98-f6365972cd8c\">\n",
              "    <div class=\"colab-df-container\">\n",
              "      <div>\n",
              "<style scoped>\n",
              "    .dataframe tbody tr th:only-of-type {\n",
              "        vertical-align: middle;\n",
              "    }\n",
              "\n",
              "    .dataframe tbody tr th {\n",
              "        vertical-align: top;\n",
              "    }\n",
              "\n",
              "    .dataframe thead th {\n",
              "        text-align: right;\n",
              "    }\n",
              "</style>\n",
              "<table border=\"1\" class=\"dataframe\">\n",
              "  <thead>\n",
              "    <tr style=\"text-align: right;\">\n",
              "      <th></th>\n",
              "      <th>preds</th>\n",
              "      <th>actual</th>\n",
              "    </tr>\n",
              "    <tr>\n",
              "      <th>date</th>\n",
              "      <th></th>\n",
              "      <th></th>\n",
              "    </tr>\n",
              "  </thead>\n",
              "  <tbody>\n",
              "    <tr>\n",
              "      <th>2018-03-20</th>\n",
              "      <td>0.222467</td>\n",
              "      <td>0.182652</td>\n",
              "    </tr>\n",
              "    <tr>\n",
              "      <th>2018-03-21</th>\n",
              "      <td>0.226873</td>\n",
              "      <td>0.180424</td>\n",
              "    </tr>\n",
              "    <tr>\n",
              "      <th>2018-03-22</th>\n",
              "      <td>0.230024</td>\n",
              "      <td>0.159062</td>\n",
              "    </tr>\n",
              "    <tr>\n",
              "      <th>2018-03-23</th>\n",
              "      <td>0.213437</td>\n",
              "      <td>0.146480</td>\n",
              "    </tr>\n",
              "    <tr>\n",
              "      <th>2018-03-26</th>\n",
              "      <td>0.198850</td>\n",
              "      <td>0.188877</td>\n",
              "    </tr>\n",
              "    <tr>\n",
              "      <th>...</th>\n",
              "      <td>...</td>\n",
              "      <td>...</td>\n",
              "    </tr>\n",
              "    <tr>\n",
              "      <th>2022-01-31</th>\n",
              "      <td>0.381178</td>\n",
              "      <td>0.422140</td>\n",
              "    </tr>\n",
              "    <tr>\n",
              "      <th>2022-02-01</th>\n",
              "      <td>0.424005</td>\n",
              "      <td>0.487648</td>\n",
              "    </tr>\n",
              "    <tr>\n",
              "      <th>2022-02-02</th>\n",
              "      <td>0.451767</td>\n",
              "      <td>0.427251</td>\n",
              "    </tr>\n",
              "    <tr>\n",
              "      <th>2022-02-03</th>\n",
              "      <td>0.432182</td>\n",
              "      <td>0.375090</td>\n",
              "    </tr>\n",
              "    <tr>\n",
              "      <th>2022-02-04</th>\n",
              "      <td>0.370466</td>\n",
              "      <td>0.385072</td>\n",
              "    </tr>\n",
              "  </tbody>\n",
              "</table>\n",
              "<p>979 rows × 2 columns</p>\n",
              "</div>\n",
              "      <button class=\"colab-df-convert\" onclick=\"convertToInteractive('df-589c1b9a-403a-4847-bf98-f6365972cd8c')\"\n",
              "              title=\"Convert this dataframe to an interactive table.\"\n",
              "              style=\"display:none;\">\n",
              "        \n",
              "  <svg xmlns=\"http://www.w3.org/2000/svg\" height=\"24px\"viewBox=\"0 0 24 24\"\n",
              "       width=\"24px\">\n",
              "    <path d=\"M0 0h24v24H0V0z\" fill=\"none\"/>\n",
              "    <path d=\"M18.56 5.44l.94 2.06.94-2.06 2.06-.94-2.06-.94-.94-2.06-.94 2.06-2.06.94zm-11 1L8.5 8.5l.94-2.06 2.06-.94-2.06-.94L8.5 2.5l-.94 2.06-2.06.94zm10 10l.94 2.06.94-2.06 2.06-.94-2.06-.94-.94-2.06-.94 2.06-2.06.94z\"/><path d=\"M17.41 7.96l-1.37-1.37c-.4-.4-.92-.59-1.43-.59-.52 0-1.04.2-1.43.59L10.3 9.45l-7.72 7.72c-.78.78-.78 2.05 0 2.83L4 21.41c.39.39.9.59 1.41.59.51 0 1.02-.2 1.41-.59l7.78-7.78 2.81-2.81c.8-.78.8-2.07 0-2.86zM5.41 20L4 18.59l7.72-7.72 1.47 1.35L5.41 20z\"/>\n",
              "  </svg>\n",
              "      </button>\n",
              "      \n",
              "  <style>\n",
              "    .colab-df-container {\n",
              "      display:flex;\n",
              "      flex-wrap:wrap;\n",
              "      gap: 12px;\n",
              "    }\n",
              "\n",
              "    .colab-df-convert {\n",
              "      background-color: #E8F0FE;\n",
              "      border: none;\n",
              "      border-radius: 50%;\n",
              "      cursor: pointer;\n",
              "      display: none;\n",
              "      fill: #1967D2;\n",
              "      height: 32px;\n",
              "      padding: 0 0 0 0;\n",
              "      width: 32px;\n",
              "    }\n",
              "\n",
              "    .colab-df-convert:hover {\n",
              "      background-color: #E2EBFA;\n",
              "      box-shadow: 0px 1px 2px rgba(60, 64, 67, 0.3), 0px 1px 3px 1px rgba(60, 64, 67, 0.15);\n",
              "      fill: #174EA6;\n",
              "    }\n",
              "\n",
              "    [theme=dark] .colab-df-convert {\n",
              "      background-color: #3B4455;\n",
              "      fill: #D2E3FC;\n",
              "    }\n",
              "\n",
              "    [theme=dark] .colab-df-convert:hover {\n",
              "      background-color: #434B5C;\n",
              "      box-shadow: 0px 1px 3px 1px rgba(0, 0, 0, 0.15);\n",
              "      filter: drop-shadow(0px 1px 2px rgba(0, 0, 0, 0.3));\n",
              "      fill: #FFFFFF;\n",
              "    }\n",
              "  </style>\n",
              "\n",
              "      <script>\n",
              "        const buttonEl =\n",
              "          document.querySelector('#df-589c1b9a-403a-4847-bf98-f6365972cd8c button.colab-df-convert');\n",
              "        buttonEl.style.display =\n",
              "          google.colab.kernel.accessAllowed ? 'block' : 'none';\n",
              "\n",
              "        async function convertToInteractive(key) {\n",
              "          const element = document.querySelector('#df-589c1b9a-403a-4847-bf98-f6365972cd8c');\n",
              "          const dataTable =\n",
              "            await google.colab.kernel.invokeFunction('convertToInteractive',\n",
              "                                                     [key], {});\n",
              "          if (!dataTable) return;\n",
              "\n",
              "          const docLinkHtml = 'Like what you see? Visit the ' +\n",
              "            '<a target=\"_blank\" href=https://colab.research.google.com/notebooks/data_table.ipynb>data table notebook</a>'\n",
              "            + ' to learn more about interactive tables.';\n",
              "          element.innerHTML = '';\n",
              "          dataTable['output_type'] = 'display_data';\n",
              "          await google.colab.output.renderOutput(dataTable, element);\n",
              "          const docLink = document.createElement('div');\n",
              "          docLink.innerHTML = docLinkHtml;\n",
              "          element.appendChild(docLink);\n",
              "        }\n",
              "      </script>\n",
              "    </div>\n",
              "  </div>\n",
              "  "
            ]
          },
          "metadata": {},
          "execution_count": 18
        }
      ],
      "source": [
        "df_preds = pd.DataFrame({'date':date_index, 'preds':preds, 'actual':dataset.label[30:]})\n",
        "df_preds['date'] = pd.to_datetime(df_preds['date'])\n",
        "df_preds.set_index('date', inplace=True)\n",
        "df_preds"
      ]
    },
    {
      "cell_type": "code",
      "execution_count": 19,
      "id": "3d11207b",
      "metadata": {
        "id": "3d11207b",
        "outputId": "37d0501b-2ee0-48a1-c157-ee2a155fb3b5",
        "colab": {
          "base_uri": "https://localhost:8080/",
          "height": 368
        }
      },
      "outputs": [
        {
          "output_type": "display_data",
          "data": {
            "text/plain": [
              "<Figure size 1200x400 with 1 Axes>"
            ],
            "image/png": "[encoded data removed]"
          },
          "metadata": {}
        }
      ],
      "source": [
        "plt.figure(figsize=(12, 4))\n",
        "plt.plot(df_preds['preds'], label='prediction')\n",
        "plt.plot(df_preds['actual'], label='actual')\n",
        "plt.legend()\n",
        "plt.show()"
      ]
    },
    {
      "cell_type": "markdown",
      "id": "30d273d5",
      "metadata": {
        "id": "30d273d5"
      },
      "source": [
        "# 마무리"
      ]
    },
    {
      "cell_type": "markdown",
      "id": "93e4f3da",
      "metadata": {
        "id": "93e4f3da"
      },
      "source": [
        "<img src='./figs/06_09.png'>"
      ]
    },
    {
      "cell_type": "markdown",
      "id": "726695f8",
      "metadata": {
        "id": "726695f8"
      },
      "source": [
        "# 연습문제"
      ]
    },
    {
      "cell_type": "markdown",
      "id": "526abe40",
      "metadata": {
        "id": "526abe40"
      },
      "source": [
        "[RNN](https://pytorch.org/docs/stable/generated/torch.nn.RNN.html)\n",
        "\n",
        "<img src='./figs/06_10.png'>"
      ]
    }
  ],
  "metadata": {
    "kernelspec": {
      "display_name": "Python 3 (ipykernel)",
      "language": "python",
      "name": "python3"
    },
    "language_info": {
      "codemirror_mode": {
        "name": "ipython",
        "version": 3
      },
      "file_extension": ".py",
      "mimetype": "text/x-python",
      "name": "python",
      "nbconvert_exporter": "python",
      "pygments_lexer": "ipython3",
      "version": "3.10.9"
    },
    "toc": {
      "base_numbering": 1,
      "nav_menu": {},
      "number_sections": true,
      "sideBar": true,
      "skip_h1_title": false,
      "title_cell": "Table of Contents",
      "title_sidebar": "Contents",
      "toc_cell": false,
      "toc_position": {
        "height": "calc(100% - 180px)",
        "left": "10px",
        "top": "150px",
        "width": "465.455px"
      },
      "toc_section_display": true,
      "toc_window_display": false
    },
    "colab": {
      "provenance": [],
      "include_colab_link": true
    }
  },
  "nbformat": 4,
  "nbformat_minor": 5
}