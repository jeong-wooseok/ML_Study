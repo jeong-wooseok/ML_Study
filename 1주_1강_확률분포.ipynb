{
  "nbformat": 4,
  "nbformat_minor": 0,
  "metadata": {
    "colab": {
      "provenance": [],
      "toc_visible": true,
      "authorship_tag": "ABX9TyP5+joGsP+xrBw7sIvp2Vte",
      "include_colab_link": true
    },
    "kernelspec": {
      "name": "python3",
      "display_name": "Python 3"
    },
    "language_info": {
      "name": "python"
    }
  },
  "cells": [
    {
      "cell_type": "markdown",
      "metadata": {
        "id": "view-in-github",
        "colab_type": "text"
      },
      "source": [
        "<a href=\"https://colab.research.google.com/github/jeong-wooseok/ML_Study/blob/main/1%EC%A3%BC_1%EA%B0%95_%ED%99%95%EB%A5%A0%EB%B6%84%ED%8F%AC.ipynb\" target=\"_parent\"><img src=\"https://colab.research.google.com/assets/colab-badge.svg\" alt=\"Open In Colab\"/></a>"
      ]
    },
    {
      "cell_type": "markdown",
      "source": [
        "# 1주. 확률분포, 추정과 가설검정, 비모수 검정\n"
      ],
      "metadata": {
        "id": "-ZLnDvkaYxYD"
      }
    },
    {
      "cell_type": "markdown",
      "source": [
        "## 1강 확률분포\n",
        "\n",
        "\n",
        "확률변수(Random Variable)는 일정한 확률을 가지고 발생하는 이벤트에 수치가 부여된 변수.\n",
        "- 확률변수는 X,Y,Z와 같이 대문자로 표기하고, 확률변수의 값은 x,y,z와 같이 소문자표 표기\n",
        "- 셀 수 있는 확률인 이산형분포, 연속되어 셀수 없는 연속형확률분포로 구분\n"
      ],
      "metadata": {
        "id": "ytZJTMjYYxbU"
      }
    },
    {
      "cell_type": "markdown",
      "source": [
        "### 1.1 이산형 분포 확률\n",
        "\n",
        "확률변수 X가 이산형(Distcrete)인 경우, x 확률이 어떻게 분포되는가\n",
        "- 확률질량함수로 확률변수 X가 취하는 확률값 x 계산\n",
        "- 확률값은 0~1사이, 모든 확률의 값은 1\n",
        "- 베르누이, 이항분포, 음이항분포, 기하분포, 포아송분포, 다항분포, 초기하분포 등이 있다.\n",
        "\n",
        "[참고사이트](https://lovelydiary.tistory.com/441)\n",
        "\n"
      ],
      "metadata": {
        "id": "UMD-uyVYYxdv"
      }
    },
    {
      "cell_type": "markdown",
      "source": [
        "#### 1.1.1 베르누이분포\n",
        "베르누이 시행은 반복시행 결과가 오직 두가지만 나올수 있는 시행이다.<br>\n",
        "성공의 횟수를 확률변수 X라 할 때,<br>\n",
        "확률변수 X는 성공률이 p, 실패확률 (q = 1-p)인 베르누이 분포를 따름<br>\n",
        "X ~ B(1,p) 로 표기 <br><br>"
      ],
      "metadata": {
        "id": "1J_tsUrYaPqi"
      }
    },
    {
      "cell_type": "markdown",
      "source": [
        "해당 분포의 확률질량함수, 기대값, 분산을 구하는 공식은 다음과 같다<br>\n",
        "> $ f(x) = p^x(1-p)^{1-x} \\quad\\quad x=0,1, \\quad\\quad   0\t\\leq q\t\\leq 1 $<br>\n",
        "> $ E(x) = p $<br>\n",
        "> $ Var(X) = pq $<br>\n"
      ],
      "metadata": {
        "id": "RqPkdkyrBQAc"
      }
    },
    {
      "cell_type": "code",
      "source": [
        "p = 0.3 # 성공할 확률\n",
        "q = 1-p # 실패할 확률\n",
        "\n",
        "E = p # 기대값\n",
        "V = p*q # 분산\n",
        "print(f'해당분포의 기대값은 {E:.3f}, 분산은 {V:.3f}')\n",
        "\n",
        "#scipy.stats활용\n",
        "from scipy.stats import bernoulli\n",
        "E, V = bernoulli.stats(p)\n",
        "print(f'scipy 해당분포의 기대값은 {E:.3f}, 분산은 {V:.3f}')\n"
      ],
      "metadata": {
        "id": "u7uFEX7Mv40q",
        "colab": {
          "base_uri": "https://localhost:8080/"
        },
        "outputId": "0f491e36-5765-4c50-8b6c-4bedf38b966e"
      },
      "execution_count": 1,
      "outputs": [
        {
          "output_type": "stream",
          "name": "stdout",
          "text": [
            "해당분포의 기대값은 0.300, 분산은 0.210\n",
            "scipy 해당분포의 기대값은 0.300, 분산은 0.210\n"
          ]
        }
      ]
    },
    {
      "cell_type": "markdown",
      "source": [
        "#### 1.1.2 기하분포"
      ],
      "metadata": {
        "id": "qfzyoKSIaPhK"
      }
    },
    {
      "cell_type": "markdown",
      "source": [
        "베르누이 시행을 성공할때까지 시행하는 분포. <br>\n",
        "1) 처음으로 성공할 때까지의 시행횟수를 확률변수 X라 하는 경우 (메인) <br>\n",
        "2) 처음 성공할때 까지의 실패횟수를 확률변수 X라 하는 경우\n",
        "확률변수 X는 성공확률 p 를 모수로 갖는 기하분포를 따른다<br>\n",
        "X ~ G(p) 라 표기<br><br>\n",
        "\n",
        "- 기하분포의 X는 셀 수는 있지만 값이 무한한 무한확률변수임\n",
        "- 기하분포는 이산확률분포 중에서 유일하게 무기억성*의 성질을 가짐\n",
        " * 무기억성 : 실패를 많이 했다고 해서 실패가 앞으로의 성공할 가능성에 영향을 미치지 않는다는 성질\n",
        "- E, V = geom.stats(p, moments = 'mv')\n",
        "- scipy.stats.geom.pmf(x,p), scipy.stats.geom.cdf(x,p)\n",
        "\n",
        "\n",
        "해당 분포의 확률질량함수, 기대값, 분산을 구하는 공식은 다음과 같다\n",
        "<br><br>\n",
        "1) 확률변수 X = 시행횟수\n",
        "> $ f(x) = pq^{x-1} \\quad\\quad x=1,2,3... $<br>\n",
        " $ E(x) = \\frac{1}{p} $<br>\n",
        " $ Var(X) = \\frac{1}{p^2}$<br>\n",
        "\n",
        "<br>\n",
        "\n",
        "\n",
        "2) 확률변수 X = 실패횟수\n",
        "> $ f(x) = pq^{x} \\quad\\quad x=0,1,2... $<br>\n",
        " $ E(x) = \\frac{q}{p} $ <br>\n",
        " $ Var(X) = \\frac{q}{p^2}$ <br>\n",
        "\n"
      ],
      "metadata": {
        "id": "_JaYxSrQsKii"
      }
    },
    {
      "cell_type": "markdown",
      "source": [
        "\n",
        "Q) 하나의 주사위를 세번 던질 때 세번째 시행에서 앞면 숫자가 6이 나올 확률은?\n"
      ],
      "metadata": {
        "id": "zN7RllT-u6-h"
      }
    },
    {
      "cell_type": "code",
      "source": [
        "from scipy.stats import geom\n",
        "n = 3\n",
        "p = 1/6\n",
        "q= 1-p\n",
        "\n",
        "case = 1\n",
        "if case == 1:\n",
        "  x = n\n",
        "  E = 1 / p\n",
        "  V = q / p**2\n",
        "  E2, V2 = geom.stats(p, moments = 'mv') # mean, variance \n",
        "  pkg_pmf, pkg_cdf = geom.pmf(x,p), geom.cdf(x,p)\n",
        "  cdf = 0\n",
        "  for i in range(1,x+1):\n",
        "    cdf += q**(i-1) * p\n",
        "  \n",
        "elif case == 2:\n",
        "  x = n - 1\n",
        "  E = q / p\n",
        "  V = q / p**2\n",
        "  pmf = q**x * p\n",
        "  cdf = 0\n",
        "  for i in range(1,x+1):\n",
        "    cdf += q**(i-1) * p\n",
        "\n",
        "# 기대값과 분산 계산하기\n",
        "print(f'[수기] 해당분포 기대값은 {E:.3f}, 분산은 {V:.3f}') \n",
        "print(f'[라이브러리리] 해당분포 기대값은 {E:.3f}, 분산은 {V:.3f}') \n",
        "\n",
        "# 확률질량함수 계산하기\n",
        "print(f'[수기] 확률질량함수 (pmf) : {pmf:.3f}')\n",
        "print(f'[라이브러리] 확률질량함수 (pmf) : {pkg_pmf:.3f} \\n')\n",
        "\n",
        "# 누적확률질량함수 계산하기 : 2번째 이하로 이길 확률은? \n",
        "print(f'[수기] 누적확률질량함수 (cdf) : {cdf:.3f}')\n",
        "print(f'[라이브러리] 누적확률질량함수 (cdf) : {pkg_cdf:.3f} \\n')\n",
        "\n",
        "print(f'하나의 주사위를 세번 던질 때 세번째 시행에서 앞면 숫자가 6이 나올 확률은 {pmf*100:.1f}% 이다')\n"
      ],
      "metadata": {
        "id": "2aUPDEYuu0sL",
        "colab": {
          "base_uri": "https://localhost:8080/"
        },
        "outputId": "37a26ef9-e4c7-4a94-8f6a-a64e1ebe2c43"
      },
      "execution_count": 9,
      "outputs": [
        {
          "output_type": "stream",
          "name": "stdout",
          "text": [
            "[수기] 해당분포 기대값은 6.000, 분산은 30.000\n",
            "[라이브러리리] 해당분포 기대값은 6.000, 분산은 30.000\n",
            "[수기] 확률질량함수 (pmf) : 81.002\n",
            "[라이브러리] 확률질량함수 (pmf) : 0.116 \n",
            "\n",
            "[수기] 누적확률질량함수 (cdf) : 0.421\n",
            "[라이브러리] 누적확률질량함수 (cdf) : 0.421 \n",
            "\n",
            "하나의 주사위를 세번 던질 때 세번째 시행에서 앞면 숫자가 6이 나올 확률은 8100.2% 이다\n"
          ]
        }
      ]
    },
    {
      "cell_type": "markdown",
      "source": [
        "####  1.1.3 이항분포\n",
        "\n",
        "베르누이 시행을 \"독립적으로 n번 반복시행\"했을 때 분포"
      ],
      "metadata": {
        "id": "ZZdtB28AaPma"
      }
    },
    {
      "cell_type": "markdown",
      "source": [
        "성공의 횟수를 확률변수 X라하면<br>\n",
        "확률변수 X는 시행횟수 n번과 성공확률 p, 실패확률 (q=1-p)를 모수로 하는 <br>이항분포를 따른다.<br>\n",
        "X ~ B(n,p)로 표기<br>\n",
        "\n",
        "- 이항분포 B(n,p)는 n>20, np>=5, n(1-p)>=5일 때 정규분포 N(np, npq)로 근사한다.\n",
        "- p <= 0.1, np= 0.1 ~ 10, n >= 50 일때 포아송분포 P(np)로 근사한다.\n",
        "- scipy.stats.binom.pmf(x,n,p), scipy.stats.binom.cdf(x,n,p)\n",
        "\n",
        "\n",
        "해당 분포의 확률질량함수, 기대값, 분산을 구하는 공식은 다음과 같다\n",
        "> $ f(x) = _n C_x p^x(1-p)^{n-x} \\quad\\quad x=0,1,...,n $<br>\n",
        "> $ E(x) = np $<br>\n",
        "> $ Var(X) = npq $<br>"
      ],
      "metadata": {
        "id": "BdiQdv7BF2i4"
      }
    },
    {
      "cell_type": "markdown",
      "source": [
        "\n",
        "Q) 근로자가 내년에 회사에서 일하지 않을 확률이 0.1이라고 추정한 경우,<br>\n",
        "시간제 근로자 3명을 무작위로 뽑았을 때, 그 중 한명이 금년에 회사를 떠날 확률은?\n"
      ],
      "metadata": {
        "id": "x_59gMK0KnFH"
      }
    },
    {
      "cell_type": "code",
      "source": [
        "from scipy.stats import binom\n",
        "import numpy as np\n",
        "\n",
        "# combination 함수정의 : 수기로 계산시 확률계산용\n",
        "fac = np.math.factorial\n",
        "def combi(n,x):\n",
        "  result = fac(n)/fac(x)/fac(n-x)\n",
        "  return result"
      ],
      "metadata": {
        "id": "56WadBS9v5TH"
      },
      "execution_count": 3,
      "outputs": []
    },
    {
      "cell_type": "code",
      "source": [
        "n = 3\n",
        "x = 1\n",
        "p = 0.1\n",
        "\n",
        "E = n*p\n",
        "V = n*p*(1-p)\n",
        "print(f'해당분포의 기대값은 {E:.3f}, 분산은 {V:.3f}')\n",
        "\n",
        "# 확률질량함수 계산\n",
        "pmf = combi(n,x) * p**x * (1-p)**(n-x)\n",
        "print(f'해당분포의 확률질량함수(pmf):{pmf:.3f}')\n",
        "\n",
        "# 누적확률질량 함수 계산\n",
        "cdf = 0\n",
        "for i in range(0,x+1):\n",
        "  cdf += combi(n,x) * p**x * (1-p)**(n-x)\n",
        "print(f'해당분포의 누적확률질량함수(cdf):{binom.cdf(x,n,p):.3f}')\n",
        " "
      ],
      "metadata": {
        "colab": {
          "base_uri": "https://localhost:8080/"
        },
        "id": "SgboyPyZK3nE",
        "outputId": "612888a0-affb-4992-aba4-f1e0d335a0ba"
      },
      "execution_count": 4,
      "outputs": [
        {
          "output_type": "stream",
          "name": "stdout",
          "text": [
            "해당분포의 기대값은 0.300, 분산은 0.270\n",
            "해당분포의 확률질량함수(pmf):0.243\n",
            "해당분포의 누적확률질량함수(cdf):0.972\n"
          ]
        }
      ]
    },
    {
      "cell_type": "markdown",
      "source": [
        "무작위로 3명 뽑을 때 그중 한명이 금년에 회사를 떠날 확률은 0.243임"
      ],
      "metadata": {
        "id": "MxbinRrQO1QW"
      }
    },
    {
      "cell_type": "markdown",
      "source": [
        "#### 1.1.4 음이항분포\n",
        "\n",
        "베르누이 시행을 \"독립적으로 k번 성공할 때까지 반복시행\""
      ],
      "metadata": {
        "id": "rc1ZWW3BaPkk"
      }
    },
    {
      "cell_type": "markdown",
      "source": [
        "\n",
        "베르누이 시행을 \"독립적으로 k번 성공할 때까지 반복시행\"했을 때 <br>\n",
        "1) 시행횟수를 확률변수 X라 하거나 (일반적으로 분석가가 관심을 가짐)<br>\n",
        "2) 실패횟수를 확률변수 X라 하는 경우<br>\n",
        "확률변수 X는 성공횟수 k와 성공확률 p 를 모수로 갖는 음이항 분포를 따른다<br>\n",
        "X ~ NB(k,p) 라 표기<br>\n",
        "\n",
        "- 음이항분포의 X는 셀 수는 있지만 값이 무한한 무한확률변수.\n",
        "- 음이항분포에서 k=1이면, 음이항분포는 기하분포가 됨 \n",
        "- E, V = scipy.stats.nbinom.stats(k,p)\n",
        "- scipy.stats.nbinom.pmf(x,k,p), scipy.stats.nbinom.cdf(x,k,p)\n",
        "\n",
        "\n",
        "해당 분포의 확률질량함수, 기대값, 분산을 구하는 공식은 다음과 같다<br>\n",
        "<br><br>\n",
        "1) 확률변수 X = 시행횟수\n",
        "> $ f(x) = _{x-1} C_{k-1} p^k(1-p)^{x-k} \\quad\\quad x=k,k+1,...,\\quad\\quad k>0 $<br>\n",
        " $ E(x) = \\frac{kq}{p} $<br>\n",
        " $ Var(X) = \\frac{kq}{p^2}$<br>\n",
        "\n",
        "<br>\n",
        "\n",
        "\n",
        "2) 확률변수 X = 실패횟수\n",
        "> $ f(x) = _{x+k-1} C_{k-1} p^k(1-p)^x \\quad\\quad x=0,1,2,...,\\quad\\quad k>0 $ <br>\n",
        " $ E(x) = \\frac{kq}{p} $ <br>\n",
        " $ Var(X) = \\frac{kq}{p^2}$ <br>"
      ],
      "metadata": {
        "id": "ZvC4THMYPNCZ"
      }
    },
    {
      "cell_type": "markdown",
      "source": [
        "\n",
        "Q) A가 승리할 확률이 0.3 이라면 5번째 경기에서 2번째로 이길 확률은? \n"
      ],
      "metadata": {
        "id": "Zd9pHv9ASvkM"
      }
    },
    {
      "cell_type": "code",
      "source": [
        "from scipy.stats import nbinom\n",
        "n = 5 # 총 시행횟수\n",
        "k = 2 # 총 성공횟수\n",
        "p = 0.3 # 성공확률\n",
        "q = 1-p # 실패확률\n",
        "\n",
        "case = 2\n",
        "if case ==1: # 확률변수 X가 k번 성공할 때까지 시행횟수 x인 경우\n",
        "  x = n # **확률변수\n",
        "  E = k / p\n",
        "  V = k*q / p**2\n",
        "  pmf = combi(x-1,k-1) * p**k * q**(x-k)\n",
        "  cdf=0\n",
        "  for i in range(k,x+1): # 확률변수의 확률값들을 합함\n",
        "    cdf += combi(i-1,k-1) * p**k * q**(1-k)\n",
        "elif case ==2: # 확률변수 X가 k번 성공할 때까지의 실패횟수 x인 경우\n",
        "  x = n-k # **확률변수\n",
        "  E = k*q / p\n",
        "  V = k*q / p**2\n",
        "  pmf = combi(x+k-1, k-1) * p**k * q**(x)\n",
        "  E2, V2 = nbinom.stats(k,p)\n",
        "  pkg_pmf, pkg_cdf = nbinom.pmf(x,k,p), nbinom.cdf(x,k,p)\n",
        "  cdf = 0\n",
        "  for i in range(0, x+1): # 확률변수의 확률값들을 합함\n",
        "    cdf += nbinom.pmf(i,k,p)\n",
        "\n",
        "# 기대값과 분산 계산하기 \n",
        "print(f'[수기] 해당분포의 기대값은{E:.3f}, 분산은 {V:.3f}')\n",
        "print(f'[라이브러리] 해당분포의 기대값은{E2:.3f}, 분산은 {V2:.3f} \\n')\n",
        "\n",
        "# 확률질량함수 계산하기\n",
        "print(f'[수기] 확률질량함수 (pmf) : {pmf:.3f}')\n",
        "print(f'[라이브러리] 확률질량함수 (pmf) : {pkg_pmf:.3f} \\n')\n",
        "\n",
        "# 누적확률질량함수 계산하기 : 2번째 이하로 이길 확률은? \n",
        "print(f'[수기] 누적확률질량함수 (cdf) : {cdf:.3f}')\n",
        "print(f'[라이브러리] 누적확률질량함수 (cdf) : {cdf:.3f} \\n')\n",
        "\n",
        "print(f'5번째 경기에서 2번째로 이길 확률은 {pmf*100:.1f}% 이다')\n",
        "\n"
      ],
      "metadata": {
        "id": "CE--SfScv5xi",
        "colab": {
          "base_uri": "https://localhost:8080/"
        },
        "outputId": "70c183b3-afb8-45b9-ca4f-ad0d31c42acc"
      },
      "execution_count": 5,
      "outputs": [
        {
          "output_type": "stream",
          "name": "stdout",
          "text": [
            "[수기] 해당분포의 기대값은4.667, 분산은 15.556\n",
            "[라이브러리] 해당분포의 기대값은4.667, 분산은 15.556 \n",
            "\n",
            "[수기] 확률질량함수 (pmf) : 0.123\n",
            "[라이브러리] 확률질량함수 (pmf) : 0.123 \n",
            "\n",
            "[수기] 누적확률질량함수 (cdf) : 0.472\n",
            "[라이브러리] 누적확률질량함수 (cdf) : 0.472 \n",
            "\n",
            "5번째 경기에서 2번째로 이길 확률은 12.3% 이다\n"
          ]
        }
      ]
    },
    {
      "cell_type": "markdown",
      "source": [
        "#### 1.1.5 초기하분포\n",
        "비복원추출에 적용되는 분포로 첫 시도의 결과에 따라 두번째 시도의 상황이 달라지므로 시도들이 종속관계에 있다 <br>"
      ],
      "metadata": {
        "id": "xpkNUQyPvNDa"
      }
    },
    {
      "cell_type": "markdown",
      "source": [
        "\n",
        "- 크기 N 의 유한모집단 중 크기 n의 확률표본을 뽑을 경우, <br>\n",
        "  N개 중 k개는 성공으로, 나머지 (N-k)개는 실패로 분류하여 비복원으로 뽑을 때  <br>\n",
        "  성공 횟수를 X라 하면,   확률변수 X는 N, k, n을 모수로 갖는 초기하분포를 따른다고 한다.<br>\n",
        "- X ~ HG(N, k, n)<br>\n",
        "- scipy.stats.hypergeom.pmf(x, N, k, n), scipy.stats.hypergeom.cdf(i, N, k, n)\n",
        "\n",
        "해당 분포의 확률질량함수, 기대값, 분산을 구하는 공식은 다음과 같다\n",
        "<br><br>\n",
        "> $ f(x) = \\frac{ _{k}C_x *  _{(N-k)}C_{(n-k)}}{_NC_n} \\quad\\quad x=0,1...,n $<br>\n",
        " $ E(x) = \\frac{nk}{N} $<br>\n",
        " $ Var(X) = \\frac{nk}{N}\\frac{n-k}{N}\\frac{N-n}{N-1}$<br>\n",
        "\n"
      ],
      "metadata": {
        "id": "UA5UJbPAvr4U"
      }
    },
    {
      "cell_type": "markdown",
      "source": [
        "\n",
        "Q) 상자속에 빨간 공이 90개, 파란 공이 10개 들어있다. \n",
        "임의로 1개씩 두번 꺼내고 다시 넣지 않을 때 1개가 파란 공이 될 확률은?\n"
      ],
      "metadata": {
        "id": "vQTSsFlrvrmC"
      }
    },
    {
      "cell_type": "code",
      "source": [
        "from scipy.stats import hypergeom\n",
        "\n",
        "N = 100 # 모집단 수 (총 공개수)\n",
        "k = 10 # 성공요소 수 (총 파란공 개수)\n",
        "n = 2 # 시행횟수 (공 선택개수)\n",
        "x = 1 # 확인하고자 하는 사건 (1개가 파란공) ** 확률변수\n",
        "P = k/N # 모비율\n",
        "\n",
        "# 기대값과 분산 구하기\n",
        "E = n * p\n",
        "V = n * p * (1-p) * ((N-n) / (N-1))\n",
        "E2, V2 = hypergeom.stats(N,k,n)\n",
        "\n",
        "# 기대값과 분산 계산하기\n",
        "print(f'[수기] 해당분포 기대값은 {E:.3f}, 분산은 {V:.3f}') \n",
        "print(f'[라이브러리리] 해당분포 기대값은 {E:.3f}, 분산은 {V:.3f}') \n",
        "\n",
        "# 확률질량함수/확률누계함수 구하기\n",
        "pmf = combi(k,x) * combi(N-k,n-x) / combi(N,n)\n",
        "cdf = 0\n",
        "\n",
        "pkg_pmf, pkg_cdf = hypergeom.pmf(x,N,k,n), hypergeom.cdf(x,N,k,n)\n",
        "\n",
        "# 확률질량함수 계산하기 : 임의로 1개씩 두번 꺼내고 다시 넣지 않을 때 1개가 파란 공이 될 확률은?\n",
        "print(f'[수기] 확률질량함수 (pmf) : {pmf:.3f}')\n",
        "print(f'[라이브러리] 확률질량함수 (pmf) : {pkg_pmf:.3f} \\n')\n",
        "\n",
        "# 누적확률질량함수 계산하기 : 파란공이 1개 이하일 확률은\n",
        "# print(f'[수기] 누적확률질량함수 (cdf) : {cdf:.3f}')\n",
        "print(f'[라이브러리] 누적확률질량함수 (cdf) : {pkg_cdf:.3f} \\n')\n",
        "\n"
      ],
      "metadata": {
        "id": "yzhyCve3vsro",
        "colab": {
          "base_uri": "https://localhost:8080/"
        },
        "outputId": "8c010f17-b9ff-4f30-d7a6-84033f43c5c5"
      },
      "execution_count": 6,
      "outputs": [
        {
          "output_type": "stream",
          "name": "stdout",
          "text": [
            "[수기] 해당분포 기대값은 0.600, 분산은 0.416\n",
            "[라이브러리리] 해당분포 기대값은 0.600, 분산은 0.416\n",
            "[수기] 확률질량함수 (pmf) : 0.182\n",
            "[라이브러리] 확률질량함수 (pmf) : 0.182 \n",
            "\n",
            "[라이브러리] 누적확률질량함수 (cdf) : 0.991 \n",
            "\n"
          ]
        }
      ]
    },
    {
      "cell_type": "code",
      "source": [
        "# 초기하분포의 이항분포 근사\n",
        "from scipy.stats import norm\n",
        "b_result = binom.pmf(x,n,k/N)\n",
        "h_result = hypergeom.pmf(x,N,k,n)\n",
        "print(f'초기하분포로 계산하면 {h_result:.3f}, 이항분포로 근사계산하면 {b_result:.3f}')"
      ],
      "metadata": {
        "colab": {
          "base_uri": "https://localhost:8080/"
        },
        "id": "dhWGk89Rq-KX",
        "outputId": "698b10d3-b633-436d-efb9-a3759e8ce3ae"
      },
      "execution_count": 7,
      "outputs": [
        {
          "output_type": "stream",
          "name": "stdout",
          "text": [
            "초기하분포로 계산하면 0.182, 이항분포로 근사계산하면 0.180\n"
          ]
        }
      ]
    },
    {
      "cell_type": "markdown",
      "source": [
        "#### 1.1.6 포아송분포"
      ],
      "metadata": {
        "id": "9yCooBygaPfL"
      }
    },
    {
      "cell_type": "markdown",
      "source": [
        "\n",
        "단위시간, 단위면적 또는 단위 공간 내에서 발생하는 어떤 사건의 횟수를 확률변수 X라할때,<br>\n",
        "- 확률변수 X 는 Lambda(단위시간, 단위면적/공간 내에 발생하는 사건의 평균값)를 <br>모수로 갖는 포아송 분포를 따른다.<br>\n",
        "- 포아송분포의 X는 셀수는 있지만 값이 무한한 무한 확률변수이다\n"
      ],
      "metadata": {
        "id": "RQSws0dqvuE-"
      }
    },
    {
      "cell_type": "markdown",
      "source": [
        "Q) 주말 저녁 시간 당 평균 6명이 응급실에 올 경우, 어떤 주말 저녁 30분 내 4명이 도착할 확률은?\n",
        "\n",
        "\n"
      ],
      "metadata": {
        "id": "CWazGQpPvtwq"
      }
    },
    {
      "cell_type": "code",
      "source": [
        "from scipy.stats import poisson\n",
        "\n",
        "x = 4 # 구간 내 사건 횟수 ** 확률변수 \n",
        "lam = 3 # 구간 내 평균 (=lambda)\n",
        "\n",
        "# 기대값과 분산 계산하기\n",
        "E= lam\n",
        "V = lam\n",
        "E2, V2 = poisson.stats(lam, moments='mv')\n",
        "\n",
        "# 기대값과 분산 계산하기\n",
        "print(f'[수기] 해당분포 기대값은 {E:.3f}, 분산은 {V:.3f}') \n",
        "print(f'[라이브러리리] 해당분포 기대값은 {E:.3f}, 분산은 {V:.3f}\\n') \n",
        "\n",
        "# 확률질량함수 계산하기\n",
        "\n",
        "pmf = lam**x + np.exp(-lam) / np.math.factorial(x)\n",
        "\n",
        "cdf = 0\n",
        "for i in range(0, x+1):\n",
        "  cdf += lam**x + np.exp(-lam) / np.math.factorial(x)\n",
        "\n",
        "pkg_pmf, pkg_cdf = poisson.pmf(x,lam), poisson.cdf(x,lam)\n",
        "\n",
        "# 확률질량함수 계산하기 :주말 저녁 시간 당 평균 6명이 응급실에 올 경우, 어떤 주말 저녁 30분 내 4명이 도착할 확률은?\n",
        "print(f'[수기] 확률질량함수 (pmf) : {pmf:.3f}')\n",
        "print(f'[라이브러리] 확률질량함수 (pmf) : {pkg_pmf:.3f} \\n')\n",
        "\n",
        "# 누적확률질량함수 계산하기 : 주말 저녁 시간 당 평균 6명이 응급실에 올 경우, 어떤 주말 저녁 30분 내 4명 이하로 도착할 확률은?\n",
        "print(f'[수기] 누적확률질량함수 (cdf) : {cdf:.3f}')\n",
        "print(f'[라이브러리] 누적확률질량함수 (cdf) : {pkg_cdf:.3f} \\n')\n"
      ],
      "metadata": {
        "id": "Ss-cMLufvs6p",
        "colab": {
          "base_uri": "https://localhost:8080/"
        },
        "outputId": "35c3f3bf-1d08-4756-ef12-3fc9b3327b53"
      },
      "execution_count": 8,
      "outputs": [
        {
          "output_type": "stream",
          "name": "stdout",
          "text": [
            "[수기] 해당분포 기대값은 3.000, 분산은 3.000\n",
            "[라이브러리리] 해당분포 기대값은 3.000, 분산은 3.000\n",
            "\n",
            "[수기] 확률질량함수 (pmf) : 81.002\n",
            "[라이브러리] 확률질량함수 (pmf) : 0.168 \n",
            "\n",
            "[수기] 누적확률질량함수 (cdf) : 405.010\n",
            "[라이브러리] 누적확률질량함수 (cdf) : 0.815 \n",
            "\n"
          ]
        }
      ]
    },
    {
      "cell_type": "code",
      "source": [
        "from scipy.stats import norm\n",
        "\n",
        "x = 10\n",
        "lam = 20\n",
        "E = V = lam\n",
        "\n",
        "sigma = np.sqrt(V) #포아송분포의 표준편차\n",
        "zstat1 = (x-0.5-lam)/sigma\n",
        "zstat2 = (x+0.5-lam)/sigma\n",
        "n_result = norm.cdf(zstat2) -norm.cdf(zstat1)\n",
        "p_result = poisson.pmf(x,lam)\n",
        "\n",
        "print('포아송분포로 계산하면 {:3f} 정규분포로 계산하면 {:.3f}'.format(p_result,n_result))"
      ],
      "metadata": {
        "colab": {
          "base_uri": "https://localhost:8080/"
        },
        "id": "z4k2ENpWmItM",
        "outputId": "e4dbf51d-8f53-4d8c-d5b6-21d2ec4946ba"
      },
      "execution_count": 10,
      "outputs": [
        {
          "output_type": "stream",
          "name": "stdout",
          "text": [
            "포아송분포로 계산하면 0.005816 정규분포로 계산하면 0.007\n"
          ]
        }
      ]
    },
    {
      "cell_type": "markdown",
      "source": [
        "### 1.2 연속형 확률분포\n",
        "확률변수가 가질 수 있는 값이 연속적인 실수여서 셀 수 없는 경우의 분포\n",
        "- 확률변수 X의 값은 확률밀도함수를 이용하여 계산\n",
        "- 확률밀도함수를 적분함으로써 그래프 아래의 면적인 확률값 계산 (면적의 총합 =1)\n",
        "- 균일분포, 정규분포, 지수분포, 카이제곱분포, t분포, F분포 등이 있음"
      ],
      "metadata": {
        "id": "-w1a_lKiaPb7"
      }
    },
    {
      "cell_type": "markdown",
      "source": [
        "#### 1.2.1 균일분포"
      ],
      "metadata": {
        "id": "Sx0BJXXaaPZl"
      }
    },
    {
      "cell_type": "markdown",
      "source": [
        "구간 (a,b)에서 확률변수 X가 균일하게 분포<br>\n",
        "X ~ U(a, b)<br>\n",
        "- scipy.stats.norm.pdf(x,lam)\n",
        "\n",
        "> $f(x) = \\frac{1}{b-a},\\quad\\quad a<x<b $<br>\n",
        "> $E(X) = \\mu $<br>\n",
        "> $Var(X) = σ^2 $<br>"
      ],
      "metadata": {
        "id": "jkjxVMsvl7Uo"
      }
    },
    {
      "cell_type": "markdown",
      "source": [
        "확률변수 X가 (5,15)에서 균일분포를 따를 때 12와 115 사이의 확률은?"
      ],
      "metadata": {
        "id": "ujX3yr-ArYsc"
      }
    },
    {
      "cell_type": "code",
      "source": [
        "[range(12,15)]"
      ],
      "metadata": {
        "colab": {
          "base_uri": "https://localhost:8080/"
        },
        "id": "0IUOQtjGMQCh",
        "outputId": "98b0f485-7f1e-4913-e2be-98412939f77a"
      },
      "execution_count": 12,
      "outputs": [
        {
          "output_type": "execute_result",
          "data": {
            "text/plain": [
              "[range(12, 15)]"
            ]
          },
          "metadata": {},
          "execution_count": 12
        }
      ]
    },
    {
      "cell_type": "code",
      "source": [
        "# 균일분포\n",
        "a = 5 # 확률밀도함수 범위\n",
        "b = 15 # 확률밀도함수 범위\n",
        "range = [(12,15)]\n",
        "p = 1/(b-a) #확률밀도함수\n",
        "\n",
        "E = (b+a)/2\n",
        "V = (b-a)**2 / 12\n",
        "cdf = 0\n",
        "for (x1,x2) in range:\n",
        "  cdf += (x2-x1) * p \n",
        "print(f'[수기] 해당분포 기대값은 {E:.3f}, 분산은 {V:.3f}') \n",
        "print(f'[수기] 범위내 누적확률은 {cdf:.3f}') "
      ],
      "metadata": {
        "colab": {
          "base_uri": "https://localhost:8080/"
        },
        "id": "4XwLCuBYrKWe",
        "outputId": "8cce6890-1fc4-4a0d-a26e-19dfba0132bc"
      },
      "execution_count": 13,
      "outputs": [
        {
          "output_type": "stream",
          "name": "stdout",
          "text": [
            "[수기] 해당분포 기대값은 10.000, 분산은 8.333\n",
            "[수기] 범위내 누적확률은 0.300\n"
          ]
        }
      ]
    },
    {
      "cell_type": "markdown",
      "source": [
        "```\n",
        "Q) 버스가 오전 7시부터 15분 간격으로 정류장을 출발한다.\n",
        "한 승객이 이 정거장에 도착하는 시간은 \n"
      ],
      "metadata": {
        "id": "BprDbEVdNY9W"
      }
    },
    {
      "cell_type": "code",
      "source": [],
      "metadata": {
        "id": "mio_rKxANZII"
      },
      "execution_count": null,
      "outputs": []
    },
    {
      "cell_type": "markdown",
      "source": [
        "#### 1.2.2 정규분포, 표준 정규분포"
      ],
      "metadata": {
        "id": "hIPY39kqaPVz"
      }
    },
    {
      "cell_type": "code",
      "source": [],
      "metadata": {
        "id": "IWPymasiNaKU"
      },
      "execution_count": null,
      "outputs": []
    },
    {
      "cell_type": "markdown",
      "source": [
        "#### 1.2.3 지수분포"
      ],
      "metadata": {
        "id": "3wCRPq_FaPTp"
      }
    },
    {
      "cell_type": "markdown",
      "source": [
        "#### 1.2.4 감마분포"
      ],
      "metadata": {
        "id": "cFs8nmBWYxgr"
      }
    },
    {
      "cell_type": "markdown",
      "source": [
        "#### 1.2.5 카이제곱분포"
      ],
      "metadata": {
        "id": "8KQHvxmdYxjx"
      }
    },
    {
      "cell_type": "markdown",
      "source": [
        "#### 1.2.6 t분포"
      ],
      "metadata": {
        "id": "XnMTsKbjc8rc"
      }
    },
    {
      "cell_type": "markdown",
      "source": [
        "#### 1.2.7 F분포"
      ],
      "metadata": {
        "id": "3RzqP3bIc8pY"
      }
    }
  ]
}